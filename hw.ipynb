{
 "metadata": {
  "language_info": {
   "codemirror_mode": {
    "name": "ipython",
    "version": 3
   },
   "file_extension": ".py",
   "mimetype": "text/x-python",
   "name": "python",
   "nbconvert_exporter": "python",
   "pygments_lexer": "ipython3",
   "version": "3.8.5-final"
  },
  "orig_nbformat": 2,
  "kernelspec": {
   "name": "Python 3.8.5 64-bit",
   "display_name": "Python 3.8.5 64-bit",
   "metadata": {
    "interpreter": {
     "hash": "767d51c1340bd893661ea55ea3124f6de3c7a262a8b4abca0554b478b1e2ff90"
    }
   }
  }
 },
 "nbformat": 4,
 "nbformat_minor": 2,
 "cells": [
  {
   "cell_type": "code",
   "execution_count": 1,
   "metadata": {},
   "outputs": [],
   "source": [
    "import pandas as pd\n",
    "import numpy as np"
   ]
  },
  {
   "cell_type": "code",
   "execution_count": 2,
   "metadata": {},
   "outputs": [
    {
     "output_type": "execute_result",
     "data": {
      "text/plain": "                                           Title                     Genre  \\\n0                                     Prometheus  Adventure,Mystery,Sci-Fi   \n1    Pirates of the Caribbean: On Stranger Tides  Action,Adventure,Fantasy   \n2                                The Dark Knight        Action,Crime,Drama   \n3                                   The Prestige      Drama,Mystery,Sci-Fi   \n4       Pirates of the Caribbean: At World's End  Action,Adventure,Fantasy   \n..                                           ...                       ...   \n433                             Taare Zameen Par        Drama,Family,Music   \n434                     Resident Evil: Afterlife   Action,Adventure,Horror   \n435                                    Project X                    Comedy   \n436                              Hostel: Part II                    Horror   \n437                       Step Up 2: The Streets       Drama,Music,Romance   \n\n     Year  Runtime  Rating    Votes  Revenue  Metascore  \n0    2012      124     7.0   485820   126.46       65.0  \n1    2011      136     6.7   395025   241.06       45.0  \n2    2008      152     9.0  1791916   533.32       82.0  \n3    2006      130     8.5   913152    53.08       66.0  \n4    2007      169     7.1   498821   309.40       50.0  \n..    ...      ...     ...      ...      ...        ...  \n433  2007      165     8.5   102697     1.20       42.0  \n434  2010       97     5.9   140900    60.13       37.0  \n435  2012       88     6.7   164088    54.72       48.0  \n436  2007       94     5.5    73152    17.54       46.0  \n437  2008       98     6.2    70699    58.01       50.0  \n\n[438 rows x 8 columns]",
      "text/html": "<div>\n<style scoped>\n    .dataframe tbody tr th:only-of-type {\n        vertical-align: middle;\n    }\n\n    .dataframe tbody tr th {\n        vertical-align: top;\n    }\n\n    .dataframe thead th {\n        text-align: right;\n    }\n</style>\n<table border=\"1\" class=\"dataframe\">\n  <thead>\n    <tr style=\"text-align: right;\">\n      <th></th>\n      <th>Title</th>\n      <th>Genre</th>\n      <th>Year</th>\n      <th>Runtime</th>\n      <th>Rating</th>\n      <th>Votes</th>\n      <th>Revenue</th>\n      <th>Metascore</th>\n    </tr>\n  </thead>\n  <tbody>\n    <tr>\n      <th>0</th>\n      <td>Prometheus</td>\n      <td>Adventure,Mystery,Sci-Fi</td>\n      <td>2012</td>\n      <td>124</td>\n      <td>7.0</td>\n      <td>485820</td>\n      <td>126.46</td>\n      <td>65.0</td>\n    </tr>\n    <tr>\n      <th>1</th>\n      <td>Pirates of the Caribbean: On Stranger Tides</td>\n      <td>Action,Adventure,Fantasy</td>\n      <td>2011</td>\n      <td>136</td>\n      <td>6.7</td>\n      <td>395025</td>\n      <td>241.06</td>\n      <td>45.0</td>\n    </tr>\n    <tr>\n      <th>2</th>\n      <td>The Dark Knight</td>\n      <td>Action,Crime,Drama</td>\n      <td>2008</td>\n      <td>152</td>\n      <td>9.0</td>\n      <td>1791916</td>\n      <td>533.32</td>\n      <td>82.0</td>\n    </tr>\n    <tr>\n      <th>3</th>\n      <td>The Prestige</td>\n      <td>Drama,Mystery,Sci-Fi</td>\n      <td>2006</td>\n      <td>130</td>\n      <td>8.5</td>\n      <td>913152</td>\n      <td>53.08</td>\n      <td>66.0</td>\n    </tr>\n    <tr>\n      <th>4</th>\n      <td>Pirates of the Caribbean: At World's End</td>\n      <td>Action,Adventure,Fantasy</td>\n      <td>2007</td>\n      <td>169</td>\n      <td>7.1</td>\n      <td>498821</td>\n      <td>309.40</td>\n      <td>50.0</td>\n    </tr>\n    <tr>\n      <th>...</th>\n      <td>...</td>\n      <td>...</td>\n      <td>...</td>\n      <td>...</td>\n      <td>...</td>\n      <td>...</td>\n      <td>...</td>\n      <td>...</td>\n    </tr>\n    <tr>\n      <th>433</th>\n      <td>Taare Zameen Par</td>\n      <td>Drama,Family,Music</td>\n      <td>2007</td>\n      <td>165</td>\n      <td>8.5</td>\n      <td>102697</td>\n      <td>1.20</td>\n      <td>42.0</td>\n    </tr>\n    <tr>\n      <th>434</th>\n      <td>Resident Evil: Afterlife</td>\n      <td>Action,Adventure,Horror</td>\n      <td>2010</td>\n      <td>97</td>\n      <td>5.9</td>\n      <td>140900</td>\n      <td>60.13</td>\n      <td>37.0</td>\n    </tr>\n    <tr>\n      <th>435</th>\n      <td>Project X</td>\n      <td>Comedy</td>\n      <td>2012</td>\n      <td>88</td>\n      <td>6.7</td>\n      <td>164088</td>\n      <td>54.72</td>\n      <td>48.0</td>\n    </tr>\n    <tr>\n      <th>436</th>\n      <td>Hostel: Part II</td>\n      <td>Horror</td>\n      <td>2007</td>\n      <td>94</td>\n      <td>5.5</td>\n      <td>73152</td>\n      <td>17.54</td>\n      <td>46.0</td>\n    </tr>\n    <tr>\n      <th>437</th>\n      <td>Step Up 2: The Streets</td>\n      <td>Drama,Music,Romance</td>\n      <td>2008</td>\n      <td>98</td>\n      <td>6.2</td>\n      <td>70699</td>\n      <td>58.01</td>\n      <td>50.0</td>\n    </tr>\n  </tbody>\n</table>\n<p>438 rows × 8 columns</p>\n</div>"
     },
     "metadata": {},
     "execution_count": 2
    }
   ],
   "source": [
    "imdb_data = pd.read_csv('imdb.csv')\n",
    "\n",
    "imdb_data = imdb_data.drop(columns=['Rank', 'Description', 'Director', 'Actors'])\n",
    "imdb_data = imdb_data.dropna()\n",
    "imdb_data = imdb_data[imdb_data['Year'] < 2014]\n",
    "imdb_data = imdb_data.reset_index(drop=True)\n",
    "imdb_data = imdb_data.rename(columns={'Runtime (Minutes)': 'Runtime', 'Revenue (Millions)': 'Revenue'})\n",
    "imdb_data"
   ]
  },
  {
   "cell_type": "code",
   "execution_count": 3,
   "metadata": {
    "tags": []
   },
   "outputs": [],
   "source": [
    "def quantification_scalar(data_frame, column_label):\n",
    "    data_frame = data_frame.copy()\n",
    "    unique_values = set(data_frame[column_label])\n",
    "    for value in unique_values:\n",
    "        label = f'{column_label}_{value}'\n",
    "        data_frame[label] = (data_frame[column_label] == value).astype(int)\n",
    "    return data_frame.drop(columns=[column_label])\n",
    "\n",
    "def quantification_set(data_frame, column_label):\n",
    "    data_frame = data_frame.copy()\n",
    "    unique_values = set()\n",
    "    for values in data_frame[column_label]:        \n",
    "        unique_values |= set(values.split(','))\n",
    "    \n",
    "    for value in unique_values:\n",
    "        label = f'{column_label}_{value}'\n",
    "        data_frame[label] = len(data_frame)*[0]\n",
    "        for i in range(len(data_frame)):\n",
    "            data_frame[label][i] = 1 if value in data_frame[column_label][i] else 0\n",
    "        \n",
    "    return data_frame.drop(columns=[column_label])\n"
   ]
  },
  {
   "cell_type": "code",
   "execution_count": 4,
   "metadata": {
    "tags": []
   },
   "outputs": [
    {
     "output_type": "execute_result",
     "data": {
      "text/plain": "                                           Title  Runtime  Rating    Votes  \\\n0                                     Prometheus      124     7.0   485820   \n1    Pirates of the Caribbean: On Stranger Tides      136     6.7   395025   \n2                                The Dark Knight      152     9.0  1791916   \n3                                   The Prestige      130     8.5   913152   \n4       Pirates of the Caribbean: At World's End      169     7.1   498821   \n..                                           ...      ...     ...      ...   \n433                             Taare Zameen Par      165     8.5   102697   \n434                     Resident Evil: Afterlife       97     5.9   140900   \n435                                    Project X       88     6.7   164088   \n436                              Hostel: Part II       94     5.5    73152   \n437                       Step Up 2: The Streets       98     6.2    70699   \n\n     Revenue  Metascore  Year_2006  Year_2007  Year_2008  Year_2009  ...  \\\n0     126.46       65.0          0          0          0          0  ...   \n1     241.06       45.0          0          0          0          0  ...   \n2     533.32       82.0          0          0          1          0  ...   \n3      53.08       66.0          1          0          0          0  ...   \n4     309.40       50.0          0          1          0          0  ...   \n..       ...        ...        ...        ...        ...        ...  ...   \n433     1.20       42.0          0          1          0          0  ...   \n434    60.13       37.0          0          0          0          0  ...   \n435    54.72       48.0          0          0          0          0  ...   \n436    17.54       46.0          0          1          0          0  ...   \n437    58.01       50.0          0          0          1          0  ...   \n\n     Genre_History  Genre_Music  Genre_Romance  Genre_War  Genre_Animation  \\\n0                0            0              0          0                0   \n1                0            0              0          0                0   \n2                0            0              0          0                0   \n3                0            0              0          0                0   \n4                0            0              0          0                0   \n..             ...          ...            ...        ...              ...   \n433              0            1              0          0                0   \n434              0            0              0          0                0   \n435              0            0              0          0                0   \n436              0            0              0          0                0   \n437              0            1              1          0                0   \n\n     Genre_Fantasy  Genre_Musical  Genre_Crime  Genre_Thriller  Genre_Family  \n0                0              0            0               0             0  \n1                1              0            0               0             0  \n2                0              0            1               0             0  \n3                0              0            0               0             0  \n4                1              0            0               0             0  \n..             ...            ...          ...             ...           ...  \n433              0              0            0               0             1  \n434              0              0            0               0             0  \n435              0              0            0               0             0  \n436              0              0            0               0             0  \n437              0              0            0               0             0  \n\n[438 rows x 34 columns]",
      "text/html": "<div>\n<style scoped>\n    .dataframe tbody tr th:only-of-type {\n        vertical-align: middle;\n    }\n\n    .dataframe tbody tr th {\n        vertical-align: top;\n    }\n\n    .dataframe thead th {\n        text-align: right;\n    }\n</style>\n<table border=\"1\" class=\"dataframe\">\n  <thead>\n    <tr style=\"text-align: right;\">\n      <th></th>\n      <th>Title</th>\n      <th>Runtime</th>\n      <th>Rating</th>\n      <th>Votes</th>\n      <th>Revenue</th>\n      <th>Metascore</th>\n      <th>Year_2006</th>\n      <th>Year_2007</th>\n      <th>Year_2008</th>\n      <th>Year_2009</th>\n      <th>...</th>\n      <th>Genre_History</th>\n      <th>Genre_Music</th>\n      <th>Genre_Romance</th>\n      <th>Genre_War</th>\n      <th>Genre_Animation</th>\n      <th>Genre_Fantasy</th>\n      <th>Genre_Musical</th>\n      <th>Genre_Crime</th>\n      <th>Genre_Thriller</th>\n      <th>Genre_Family</th>\n    </tr>\n  </thead>\n  <tbody>\n    <tr>\n      <th>0</th>\n      <td>Prometheus</td>\n      <td>124</td>\n      <td>7.0</td>\n      <td>485820</td>\n      <td>126.46</td>\n      <td>65.0</td>\n      <td>0</td>\n      <td>0</td>\n      <td>0</td>\n      <td>0</td>\n      <td>...</td>\n      <td>0</td>\n      <td>0</td>\n      <td>0</td>\n      <td>0</td>\n      <td>0</td>\n      <td>0</td>\n      <td>0</td>\n      <td>0</td>\n      <td>0</td>\n      <td>0</td>\n    </tr>\n    <tr>\n      <th>1</th>\n      <td>Pirates of the Caribbean: On Stranger Tides</td>\n      <td>136</td>\n      <td>6.7</td>\n      <td>395025</td>\n      <td>241.06</td>\n      <td>45.0</td>\n      <td>0</td>\n      <td>0</td>\n      <td>0</td>\n      <td>0</td>\n      <td>...</td>\n      <td>0</td>\n      <td>0</td>\n      <td>0</td>\n      <td>0</td>\n      <td>0</td>\n      <td>1</td>\n      <td>0</td>\n      <td>0</td>\n      <td>0</td>\n      <td>0</td>\n    </tr>\n    <tr>\n      <th>2</th>\n      <td>The Dark Knight</td>\n      <td>152</td>\n      <td>9.0</td>\n      <td>1791916</td>\n      <td>533.32</td>\n      <td>82.0</td>\n      <td>0</td>\n      <td>0</td>\n      <td>1</td>\n      <td>0</td>\n      <td>...</td>\n      <td>0</td>\n      <td>0</td>\n      <td>0</td>\n      <td>0</td>\n      <td>0</td>\n      <td>0</td>\n      <td>0</td>\n      <td>1</td>\n      <td>0</td>\n      <td>0</td>\n    </tr>\n    <tr>\n      <th>3</th>\n      <td>The Prestige</td>\n      <td>130</td>\n      <td>8.5</td>\n      <td>913152</td>\n      <td>53.08</td>\n      <td>66.0</td>\n      <td>1</td>\n      <td>0</td>\n      <td>0</td>\n      <td>0</td>\n      <td>...</td>\n      <td>0</td>\n      <td>0</td>\n      <td>0</td>\n      <td>0</td>\n      <td>0</td>\n      <td>0</td>\n      <td>0</td>\n      <td>0</td>\n      <td>0</td>\n      <td>0</td>\n    </tr>\n    <tr>\n      <th>4</th>\n      <td>Pirates of the Caribbean: At World's End</td>\n      <td>169</td>\n      <td>7.1</td>\n      <td>498821</td>\n      <td>309.40</td>\n      <td>50.0</td>\n      <td>0</td>\n      <td>1</td>\n      <td>0</td>\n      <td>0</td>\n      <td>...</td>\n      <td>0</td>\n      <td>0</td>\n      <td>0</td>\n      <td>0</td>\n      <td>0</td>\n      <td>1</td>\n      <td>0</td>\n      <td>0</td>\n      <td>0</td>\n      <td>0</td>\n    </tr>\n    <tr>\n      <th>...</th>\n      <td>...</td>\n      <td>...</td>\n      <td>...</td>\n      <td>...</td>\n      <td>...</td>\n      <td>...</td>\n      <td>...</td>\n      <td>...</td>\n      <td>...</td>\n      <td>...</td>\n      <td>...</td>\n      <td>...</td>\n      <td>...</td>\n      <td>...</td>\n      <td>...</td>\n      <td>...</td>\n      <td>...</td>\n      <td>...</td>\n      <td>...</td>\n      <td>...</td>\n      <td>...</td>\n    </tr>\n    <tr>\n      <th>433</th>\n      <td>Taare Zameen Par</td>\n      <td>165</td>\n      <td>8.5</td>\n      <td>102697</td>\n      <td>1.20</td>\n      <td>42.0</td>\n      <td>0</td>\n      <td>1</td>\n      <td>0</td>\n      <td>0</td>\n      <td>...</td>\n      <td>0</td>\n      <td>1</td>\n      <td>0</td>\n      <td>0</td>\n      <td>0</td>\n      <td>0</td>\n      <td>0</td>\n      <td>0</td>\n      <td>0</td>\n      <td>1</td>\n    </tr>\n    <tr>\n      <th>434</th>\n      <td>Resident Evil: Afterlife</td>\n      <td>97</td>\n      <td>5.9</td>\n      <td>140900</td>\n      <td>60.13</td>\n      <td>37.0</td>\n      <td>0</td>\n      <td>0</td>\n      <td>0</td>\n      <td>0</td>\n      <td>...</td>\n      <td>0</td>\n      <td>0</td>\n      <td>0</td>\n      <td>0</td>\n      <td>0</td>\n      <td>0</td>\n      <td>0</td>\n      <td>0</td>\n      <td>0</td>\n      <td>0</td>\n    </tr>\n    <tr>\n      <th>435</th>\n      <td>Project X</td>\n      <td>88</td>\n      <td>6.7</td>\n      <td>164088</td>\n      <td>54.72</td>\n      <td>48.0</td>\n      <td>0</td>\n      <td>0</td>\n      <td>0</td>\n      <td>0</td>\n      <td>...</td>\n      <td>0</td>\n      <td>0</td>\n      <td>0</td>\n      <td>0</td>\n      <td>0</td>\n      <td>0</td>\n      <td>0</td>\n      <td>0</td>\n      <td>0</td>\n      <td>0</td>\n    </tr>\n    <tr>\n      <th>436</th>\n      <td>Hostel: Part II</td>\n      <td>94</td>\n      <td>5.5</td>\n      <td>73152</td>\n      <td>17.54</td>\n      <td>46.0</td>\n      <td>0</td>\n      <td>1</td>\n      <td>0</td>\n      <td>0</td>\n      <td>...</td>\n      <td>0</td>\n      <td>0</td>\n      <td>0</td>\n      <td>0</td>\n      <td>0</td>\n      <td>0</td>\n      <td>0</td>\n      <td>0</td>\n      <td>0</td>\n      <td>0</td>\n    </tr>\n    <tr>\n      <th>437</th>\n      <td>Step Up 2: The Streets</td>\n      <td>98</td>\n      <td>6.2</td>\n      <td>70699</td>\n      <td>58.01</td>\n      <td>50.0</td>\n      <td>0</td>\n      <td>0</td>\n      <td>1</td>\n      <td>0</td>\n      <td>...</td>\n      <td>0</td>\n      <td>1</td>\n      <td>1</td>\n      <td>0</td>\n      <td>0</td>\n      <td>0</td>\n      <td>0</td>\n      <td>0</td>\n      <td>0</td>\n      <td>0</td>\n    </tr>\n  </tbody>\n</table>\n<p>438 rows × 34 columns</p>\n</div>"
     },
     "metadata": {},
     "execution_count": 4
    }
   ],
   "source": [
    "imdb_data = quantification_scalar(imdb_data, \"Year\")\n",
    "imdb_data = quantification_set(imdb_data, \"Genre\")\n",
    "imdb_data"
   ]
  },
  {
   "cell_type": "code",
   "execution_count": 5,
   "metadata": {},
   "outputs": [],
   "source": [
    "\n",
    "def standardization(data_frame, columns_lebels=None, is_range_based=True):\n",
    "    data_frame = data_frame.copy()\n",
    "    if columns_lebels is None:\n",
    "        columns_lebels = data_frame.columns\n",
    "\n",
    "    for label in columns_lebels:\n",
    "        column = data_frame[label]\n",
    "        m =  column.mean()\n",
    "        rng = column.max() - column.min()\n",
    "        std = column.std()\n",
    "\n",
    "        if is_range_based:\n",
    "            data_frame[label] = (column - m) / rng\n",
    "        else:\n",
    "            data_frame[label] = (column - m) / std\n",
    "\n",
    "    return data_frame"
   ]
  },
  {
   "cell_type": "code",
   "execution_count": 6,
   "metadata": {},
   "outputs": [
    {
     "output_type": "execute_result",
     "data": {
      "text/plain": "                                           Title   Runtime    Rating  \\\n0                                     Prometheus  0.079885  0.010676   \n1    Pirates of the Caribbean: On Stranger Tides  0.203596 -0.031578   \n2                                The Dark Knight  0.368545  0.292366   \n3                                   The Prestige  0.141741  0.221944   \n4       Pirates of the Caribbean: At World's End  0.543803  0.024760   \n..                                           ...       ...       ...   \n433                             Taare Zameen Par  0.502566  0.221944   \n434                     Resident Evil: Afterlife -0.198465 -0.144254   \n435                                    Project X -0.291249 -0.031578   \n436                              Hostel: Part II -0.229393 -0.200592   \n437                       Step Up 2: The Streets -0.188156 -0.102000   \n\n        Votes   Revenue  Metascore  Year_2006  Year_2007  Year_2008  \\\n0    0.125262  0.036839   0.055317  -0.093607  -0.100457  -0.109589   \n1    0.074555  0.187531  -0.185647  -0.093607  -0.100457  -0.109589   \n2    0.854697  0.571836   0.260136  -0.093607  -0.100457   0.890411   \n3    0.363921 -0.059651   0.067365   0.906393  -0.100457  -0.109589   \n4    0.132523  0.277394  -0.125406  -0.093607   0.899543  -0.109589   \n..        ...       ...        ...        ...        ...        ...   \n433 -0.088706 -0.127871  -0.221791  -0.093607   0.899543  -0.109589   \n434 -0.067370 -0.050381  -0.282032  -0.093607  -0.100457  -0.109589   \n435 -0.054420 -0.057495  -0.149502  -0.093607  -0.100457  -0.109589   \n436 -0.105206 -0.106384  -0.173599  -0.093607   0.899543  -0.109589   \n437 -0.106576 -0.053169  -0.125406  -0.093607  -0.100457   0.890411   \n\n     Year_2009  ...  Genre_History  Genre_Music  Genre_Romance  Genre_War  \\\n0     -0.10274  ...      -0.020548    -0.027397      -0.148402  -0.013699   \n1     -0.10274  ...      -0.020548    -0.027397      -0.148402  -0.013699   \n2     -0.10274  ...      -0.020548    -0.027397      -0.148402  -0.013699   \n3     -0.10274  ...      -0.020548    -0.027397      -0.148402  -0.013699   \n4     -0.10274  ...      -0.020548    -0.027397      -0.148402  -0.013699   \n..         ...  ...            ...          ...            ...        ...   \n433   -0.10274  ...      -0.020548     0.972603      -0.148402  -0.013699   \n434   -0.10274  ...      -0.020548    -0.027397      -0.148402  -0.013699   \n435   -0.10274  ...      -0.020548    -0.027397      -0.148402  -0.013699   \n436   -0.10274  ...      -0.020548    -0.027397      -0.148402  -0.013699   \n437   -0.10274  ...      -0.020548     0.972603       0.851598  -0.013699   \n\n     Genre_Animation  Genre_Fantasy  Genre_Musical  Genre_Crime  \\\n0          -0.050228      -0.139269      -0.011416    -0.157534   \n1          -0.050228       0.860731      -0.011416    -0.157534   \n2          -0.050228      -0.139269      -0.011416     0.842466   \n3          -0.050228      -0.139269      -0.011416    -0.157534   \n4          -0.050228       0.860731      -0.011416    -0.157534   \n..               ...            ...            ...          ...   \n433        -0.050228      -0.139269      -0.011416    -0.157534   \n434        -0.050228      -0.139269      -0.011416    -0.157534   \n435        -0.050228      -0.139269      -0.011416    -0.157534   \n436        -0.050228      -0.139269      -0.011416    -0.157534   \n437        -0.050228      -0.139269      -0.011416    -0.157534   \n\n     Genre_Thriller  Genre_Family  \n0         -0.189498     -0.054795  \n1         -0.189498     -0.054795  \n2         -0.189498     -0.054795  \n3         -0.189498     -0.054795  \n4         -0.189498     -0.054795  \n..              ...           ...  \n433       -0.189498      0.945205  \n434       -0.189498     -0.054795  \n435       -0.189498     -0.054795  \n436       -0.189498     -0.054795  \n437       -0.189498     -0.054795  \n\n[438 rows x 34 columns]",
      "text/html": "<div>\n<style scoped>\n    .dataframe tbody tr th:only-of-type {\n        vertical-align: middle;\n    }\n\n    .dataframe tbody tr th {\n        vertical-align: top;\n    }\n\n    .dataframe thead th {\n        text-align: right;\n    }\n</style>\n<table border=\"1\" class=\"dataframe\">\n  <thead>\n    <tr style=\"text-align: right;\">\n      <th></th>\n      <th>Title</th>\n      <th>Runtime</th>\n      <th>Rating</th>\n      <th>Votes</th>\n      <th>Revenue</th>\n      <th>Metascore</th>\n      <th>Year_2006</th>\n      <th>Year_2007</th>\n      <th>Year_2008</th>\n      <th>Year_2009</th>\n      <th>...</th>\n      <th>Genre_History</th>\n      <th>Genre_Music</th>\n      <th>Genre_Romance</th>\n      <th>Genre_War</th>\n      <th>Genre_Animation</th>\n      <th>Genre_Fantasy</th>\n      <th>Genre_Musical</th>\n      <th>Genre_Crime</th>\n      <th>Genre_Thriller</th>\n      <th>Genre_Family</th>\n    </tr>\n  </thead>\n  <tbody>\n    <tr>\n      <th>0</th>\n      <td>Prometheus</td>\n      <td>0.079885</td>\n      <td>0.010676</td>\n      <td>0.125262</td>\n      <td>0.036839</td>\n      <td>0.055317</td>\n      <td>-0.093607</td>\n      <td>-0.100457</td>\n      <td>-0.109589</td>\n      <td>-0.10274</td>\n      <td>...</td>\n      <td>-0.020548</td>\n      <td>-0.027397</td>\n      <td>-0.148402</td>\n      <td>-0.013699</td>\n      <td>-0.050228</td>\n      <td>-0.139269</td>\n      <td>-0.011416</td>\n      <td>-0.157534</td>\n      <td>-0.189498</td>\n      <td>-0.054795</td>\n    </tr>\n    <tr>\n      <th>1</th>\n      <td>Pirates of the Caribbean: On Stranger Tides</td>\n      <td>0.203596</td>\n      <td>-0.031578</td>\n      <td>0.074555</td>\n      <td>0.187531</td>\n      <td>-0.185647</td>\n      <td>-0.093607</td>\n      <td>-0.100457</td>\n      <td>-0.109589</td>\n      <td>-0.10274</td>\n      <td>...</td>\n      <td>-0.020548</td>\n      <td>-0.027397</td>\n      <td>-0.148402</td>\n      <td>-0.013699</td>\n      <td>-0.050228</td>\n      <td>0.860731</td>\n      <td>-0.011416</td>\n      <td>-0.157534</td>\n      <td>-0.189498</td>\n      <td>-0.054795</td>\n    </tr>\n    <tr>\n      <th>2</th>\n      <td>The Dark Knight</td>\n      <td>0.368545</td>\n      <td>0.292366</td>\n      <td>0.854697</td>\n      <td>0.571836</td>\n      <td>0.260136</td>\n      <td>-0.093607</td>\n      <td>-0.100457</td>\n      <td>0.890411</td>\n      <td>-0.10274</td>\n      <td>...</td>\n      <td>-0.020548</td>\n      <td>-0.027397</td>\n      <td>-0.148402</td>\n      <td>-0.013699</td>\n      <td>-0.050228</td>\n      <td>-0.139269</td>\n      <td>-0.011416</td>\n      <td>0.842466</td>\n      <td>-0.189498</td>\n      <td>-0.054795</td>\n    </tr>\n    <tr>\n      <th>3</th>\n      <td>The Prestige</td>\n      <td>0.141741</td>\n      <td>0.221944</td>\n      <td>0.363921</td>\n      <td>-0.059651</td>\n      <td>0.067365</td>\n      <td>0.906393</td>\n      <td>-0.100457</td>\n      <td>-0.109589</td>\n      <td>-0.10274</td>\n      <td>...</td>\n      <td>-0.020548</td>\n      <td>-0.027397</td>\n      <td>-0.148402</td>\n      <td>-0.013699</td>\n      <td>-0.050228</td>\n      <td>-0.139269</td>\n      <td>-0.011416</td>\n      <td>-0.157534</td>\n      <td>-0.189498</td>\n      <td>-0.054795</td>\n    </tr>\n    <tr>\n      <th>4</th>\n      <td>Pirates of the Caribbean: At World's End</td>\n      <td>0.543803</td>\n      <td>0.024760</td>\n      <td>0.132523</td>\n      <td>0.277394</td>\n      <td>-0.125406</td>\n      <td>-0.093607</td>\n      <td>0.899543</td>\n      <td>-0.109589</td>\n      <td>-0.10274</td>\n      <td>...</td>\n      <td>-0.020548</td>\n      <td>-0.027397</td>\n      <td>-0.148402</td>\n      <td>-0.013699</td>\n      <td>-0.050228</td>\n      <td>0.860731</td>\n      <td>-0.011416</td>\n      <td>-0.157534</td>\n      <td>-0.189498</td>\n      <td>-0.054795</td>\n    </tr>\n    <tr>\n      <th>...</th>\n      <td>...</td>\n      <td>...</td>\n      <td>...</td>\n      <td>...</td>\n      <td>...</td>\n      <td>...</td>\n      <td>...</td>\n      <td>...</td>\n      <td>...</td>\n      <td>...</td>\n      <td>...</td>\n      <td>...</td>\n      <td>...</td>\n      <td>...</td>\n      <td>...</td>\n      <td>...</td>\n      <td>...</td>\n      <td>...</td>\n      <td>...</td>\n      <td>...</td>\n      <td>...</td>\n    </tr>\n    <tr>\n      <th>433</th>\n      <td>Taare Zameen Par</td>\n      <td>0.502566</td>\n      <td>0.221944</td>\n      <td>-0.088706</td>\n      <td>-0.127871</td>\n      <td>-0.221791</td>\n      <td>-0.093607</td>\n      <td>0.899543</td>\n      <td>-0.109589</td>\n      <td>-0.10274</td>\n      <td>...</td>\n      <td>-0.020548</td>\n      <td>0.972603</td>\n      <td>-0.148402</td>\n      <td>-0.013699</td>\n      <td>-0.050228</td>\n      <td>-0.139269</td>\n      <td>-0.011416</td>\n      <td>-0.157534</td>\n      <td>-0.189498</td>\n      <td>0.945205</td>\n    </tr>\n    <tr>\n      <th>434</th>\n      <td>Resident Evil: Afterlife</td>\n      <td>-0.198465</td>\n      <td>-0.144254</td>\n      <td>-0.067370</td>\n      <td>-0.050381</td>\n      <td>-0.282032</td>\n      <td>-0.093607</td>\n      <td>-0.100457</td>\n      <td>-0.109589</td>\n      <td>-0.10274</td>\n      <td>...</td>\n      <td>-0.020548</td>\n      <td>-0.027397</td>\n      <td>-0.148402</td>\n      <td>-0.013699</td>\n      <td>-0.050228</td>\n      <td>-0.139269</td>\n      <td>-0.011416</td>\n      <td>-0.157534</td>\n      <td>-0.189498</td>\n      <td>-0.054795</td>\n    </tr>\n    <tr>\n      <th>435</th>\n      <td>Project X</td>\n      <td>-0.291249</td>\n      <td>-0.031578</td>\n      <td>-0.054420</td>\n      <td>-0.057495</td>\n      <td>-0.149502</td>\n      <td>-0.093607</td>\n      <td>-0.100457</td>\n      <td>-0.109589</td>\n      <td>-0.10274</td>\n      <td>...</td>\n      <td>-0.020548</td>\n      <td>-0.027397</td>\n      <td>-0.148402</td>\n      <td>-0.013699</td>\n      <td>-0.050228</td>\n      <td>-0.139269</td>\n      <td>-0.011416</td>\n      <td>-0.157534</td>\n      <td>-0.189498</td>\n      <td>-0.054795</td>\n    </tr>\n    <tr>\n      <th>436</th>\n      <td>Hostel: Part II</td>\n      <td>-0.229393</td>\n      <td>-0.200592</td>\n      <td>-0.105206</td>\n      <td>-0.106384</td>\n      <td>-0.173599</td>\n      <td>-0.093607</td>\n      <td>0.899543</td>\n      <td>-0.109589</td>\n      <td>-0.10274</td>\n      <td>...</td>\n      <td>-0.020548</td>\n      <td>-0.027397</td>\n      <td>-0.148402</td>\n      <td>-0.013699</td>\n      <td>-0.050228</td>\n      <td>-0.139269</td>\n      <td>-0.011416</td>\n      <td>-0.157534</td>\n      <td>-0.189498</td>\n      <td>-0.054795</td>\n    </tr>\n    <tr>\n      <th>437</th>\n      <td>Step Up 2: The Streets</td>\n      <td>-0.188156</td>\n      <td>-0.102000</td>\n      <td>-0.106576</td>\n      <td>-0.053169</td>\n      <td>-0.125406</td>\n      <td>-0.093607</td>\n      <td>-0.100457</td>\n      <td>0.890411</td>\n      <td>-0.10274</td>\n      <td>...</td>\n      <td>-0.020548</td>\n      <td>0.972603</td>\n      <td>0.851598</td>\n      <td>-0.013699</td>\n      <td>-0.050228</td>\n      <td>-0.139269</td>\n      <td>-0.011416</td>\n      <td>-0.157534</td>\n      <td>-0.189498</td>\n      <td>-0.054795</td>\n    </tr>\n  </tbody>\n</table>\n<p>438 rows × 34 columns</p>\n</div>"
     },
     "metadata": {},
     "execution_count": 6
    }
   ],
   "source": [
    "columns = set(imdb_data.columns) - {\"Title\"}\n",
    "standardization(imdb_data, columns)"
   ]
  },
  {
   "cell_type": "code",
   "execution_count": 7,
   "metadata": {},
   "outputs": [],
   "source": [
    "import sklearn as sk\n",
    "import sklearn.cluster\n",
    "\n",
    "def cluster(data_frame, clusters_number, clustering_columns_labels=None):\n",
    "    data_frame = data_frame.copy()\n",
    "    if clustering_columns_labels is None:\n",
    "        clustering_columns_labels = data_frame.labels\n",
    "\n",
    "    data_frame_normalized = standardization(data_frame, clustering_columns_labels)\n",
    "    clustering_data = data_frame_normalized[clustering_columns_labels].to_numpy()\n",
    "    k_means = sk.cluster.KMeans(n_clusters=clusters_number, init='random', n_init=300, max_iter=10000, algorithm='full', random_state=42)\n",
    "    result = k_means.fit(clustering_data)\n",
    "    data_frame['Cluster'] = result.labels_\n",
    "\n",
    "    return data_frame, result.inertia_"
   ]
  },
  {
   "cell_type": "code",
   "execution_count": 8,
   "metadata": {},
   "outputs": [],
   "source": [
    "def print_clusters_info(data_frame_clustered, item_id_label=None, clustering_columns_labels=None):\n",
    "    if clustering_columns_labels is None:\n",
    "        clustering_columns_labels = data_frame.labels\n",
    "\n",
    "    clusters_number = data_frame_clustered['Cluster'].max() + 1\n",
    "    \n",
    "    for claster_id in range(clusters_number):\n",
    "        statistics = pd.DataFrame()\n",
    "        statistics[\"\"] = [\"Within cluster mean\", \"Grand mean\", 'Difference', 'Difference, %']\n",
    "        for column_label in clustering_columns_labels:\n",
    "            grand_mean = data_frame_clustered[column_label].mean()\n",
    "            within_cluster_mean = data_frame_clustered[column_label][data_frame_clustered['Cluster'] == claster_id].mean()\n",
    "            difference = within_cluster_mean - grand_mean\n",
    "            relative_difference = difference / grand_mean\n",
    "\n",
    "            statistics[column_label] = [within_cluster_mean, grand_mean, difference, relative_difference]\n",
    "\n",
    "        print(f'Cluster № {claster_id + 1}')\n",
    "        print('------------------------------')\n",
    "        display(statistics)\n",
    "        if item_id_label is not None:\n",
    "            print(\"Items:\")\n",
    "            items_in_claster = data_frame_clustered[item_id_label][data_frame_clustered['Cluster'] == claster_id]\n",
    "            for item_id in items_in_claster:\n",
    "                print(item_id)\n",
    "        print()"
   ]
  },
  {
   "cell_type": "code",
   "execution_count": 9,
   "metadata": {
    "tags": []
   },
   "outputs": [
    {
     "output_type": "stream",
     "name": "stdout",
     "text": "Inertia: 8.251742216292607\n\nCluster № 1\n------------------------------\n"
    },
    {
     "output_type": "display_data",
     "data": {
      "text/plain": "                          Rating         Votes     Revenue  Metascore\n0  Within cluster mean  8.440000  1.315836e+06  531.562000  77.200000\n1           Grand mean  6.924201  2.615301e+05   98.444269  60.408676\n2           Difference  1.515799  1.054306e+06  433.117731  16.791324\n3        Difference, %  0.218913  4.031300e+00    4.399624   0.277962",
      "text/html": "<div>\n<style scoped>\n    .dataframe tbody tr th:only-of-type {\n        vertical-align: middle;\n    }\n\n    .dataframe tbody tr th {\n        vertical-align: top;\n    }\n\n    .dataframe thead th {\n        text-align: right;\n    }\n</style>\n<table border=\"1\" class=\"dataframe\">\n  <thead>\n    <tr style=\"text-align: right;\">\n      <th></th>\n      <th></th>\n      <th>Rating</th>\n      <th>Votes</th>\n      <th>Revenue</th>\n      <th>Metascore</th>\n    </tr>\n  </thead>\n  <tbody>\n    <tr>\n      <th>0</th>\n      <td>Within cluster mean</td>\n      <td>8.440000</td>\n      <td>1.315836e+06</td>\n      <td>531.562000</td>\n      <td>77.200000</td>\n    </tr>\n    <tr>\n      <th>1</th>\n      <td>Grand mean</td>\n      <td>6.924201</td>\n      <td>2.615301e+05</td>\n      <td>98.444269</td>\n      <td>60.408676</td>\n    </tr>\n    <tr>\n      <th>2</th>\n      <td>Difference</td>\n      <td>1.515799</td>\n      <td>1.054306e+06</td>\n      <td>433.117731</td>\n      <td>16.791324</td>\n    </tr>\n    <tr>\n      <th>3</th>\n      <td>Difference, %</td>\n      <td>0.218913</td>\n      <td>4.031300e+00</td>\n      <td>4.399624</td>\n      <td>0.277962</td>\n    </tr>\n  </tbody>\n</table>\n</div>"
     },
     "metadata": {}
    },
    {
     "output_type": "stream",
     "name": "stdout",
     "text": "Items:\nThe Dark Knight\nThe Avengers\nInception\nAvatar\nThe Dark Knight Rises\n\nCluster № 2\n------------------------------\n"
    },
    {
     "output_type": "display_data",
     "data": {
      "text/plain": "                          Rating          Votes    Revenue  Metascore\n0  Within cluster mean  7.523944  241381.140845  47.171408  79.985915\n1           Grand mean  6.924201  261530.098174  98.444269  60.408676\n2           Difference  0.599743  -20148.957328 -51.272861  19.577240\n3        Difference, %  0.086615      -0.077043  -0.520831   0.324080",
      "text/html": "<div>\n<style scoped>\n    .dataframe tbody tr th:only-of-type {\n        vertical-align: middle;\n    }\n\n    .dataframe tbody tr th {\n        vertical-align: top;\n    }\n\n    .dataframe thead th {\n        text-align: right;\n    }\n</style>\n<table border=\"1\" class=\"dataframe\">\n  <thead>\n    <tr style=\"text-align: right;\">\n      <th></th>\n      <th></th>\n      <th>Rating</th>\n      <th>Votes</th>\n      <th>Revenue</th>\n      <th>Metascore</th>\n    </tr>\n  </thead>\n  <tbody>\n    <tr>\n      <th>0</th>\n      <td>Within cluster mean</td>\n      <td>7.523944</td>\n      <td>241381.140845</td>\n      <td>47.171408</td>\n      <td>79.985915</td>\n    </tr>\n    <tr>\n      <th>1</th>\n      <td>Grand mean</td>\n      <td>6.924201</td>\n      <td>261530.098174</td>\n      <td>98.444269</td>\n      <td>60.408676</td>\n    </tr>\n    <tr>\n      <th>2</th>\n      <td>Difference</td>\n      <td>0.599743</td>\n      <td>-20148.957328</td>\n      <td>-51.272861</td>\n      <td>19.577240</td>\n    </tr>\n    <tr>\n      <th>3</th>\n      <td>Difference, %</td>\n      <td>0.086615</td>\n      <td>-0.077043</td>\n      <td>-0.520831</td>\n      <td>0.324080</td>\n    </tr>\n  </tbody>\n</table>\n</div>"
     },
     "metadata": {}
    },
    {
     "output_type": "stream",
     "name": "stdout",
     "text": "Items:\nPrisoners\nHot Fuzz\nHer\nDrive\nWarrior\nInto the Wild\nChildren of Men\nZodiac\nThere Will Be Blood\nThe Cabin in the Woods\nLa vie d'Adèle\nSnowpiercer\nDallas Buyers Club\nLincoln\nRush\nLooper\nMidnight in Paris\nZombieland\nZero Dark Thirty\nThe imposible\nCoraline\nBlue Valentine\nJagten\nThe Town\nAmerican Gangster\nThe Lives of Others\nMoonrise Kingdom\nHairspray\nUnder the Skin\n(500) Days of Summer\nEasy A\nThe Ghost Writer\nEnchanted\nLittle Miss Sunshine\nMoneyball\nMän som hatar kvinnor\nLet Me In\nHellboy II: The Golden Army\nThe Host\nKnocked Up\nSource Code\nSweeney Todd: The Demon Barber of Fleet Street\nEastern Promises\nGone Baby Gone\nThe Hurt Locker\nHunger\nTinker Tailor Soldier Spy\nIncendies\nHugo\nEl secreto de sus ojos\nTrue Grit\nThe Fighter\nCaptain Phillips\nRescue Dawn\nThe World's End\nThe Spectacular Now\nFantastic Mr. Fox\nInside Man\n127 Hours\nJane Eyre\nMelancholia\nThe Princess and the Frog\nFlight\nLocke\n28 Weeks Later\nBlue Jasmine\nThe Tree of Life\n50/50\nBridge to Terabithia\nPrecious\nThe Descendants\n\nCluster № 3\n------------------------------\n"
    },
    {
     "output_type": "display_data",
     "data": {
      "text/plain": "                          Rating          Votes     Revenue  Metascore\n0  Within cluster mean  7.480000  482035.333333  306.972333  69.500000\n1           Grand mean  6.924201  261530.098174   98.444269  60.408676\n2           Difference  0.555799  220505.235160  208.528064   9.091324\n3        Difference, %  0.080269       0.843135    2.118235   0.150497",
      "text/html": "<div>\n<style scoped>\n    .dataframe tbody tr th:only-of-type {\n        vertical-align: middle;\n    }\n\n    .dataframe tbody tr th {\n        vertical-align: top;\n    }\n\n    .dataframe thead th {\n        text-align: right;\n    }\n</style>\n<table border=\"1\" class=\"dataframe\">\n  <thead>\n    <tr style=\"text-align: right;\">\n      <th></th>\n      <th></th>\n      <th>Rating</th>\n      <th>Votes</th>\n      <th>Revenue</th>\n      <th>Metascore</th>\n    </tr>\n  </thead>\n  <tbody>\n    <tr>\n      <th>0</th>\n      <td>Within cluster mean</td>\n      <td>7.480000</td>\n      <td>482035.333333</td>\n      <td>306.972333</td>\n      <td>69.500000</td>\n    </tr>\n    <tr>\n      <th>1</th>\n      <td>Grand mean</td>\n      <td>6.924201</td>\n      <td>261530.098174</td>\n      <td>98.444269</td>\n      <td>60.408676</td>\n    </tr>\n    <tr>\n      <th>2</th>\n      <td>Difference</td>\n      <td>0.555799</td>\n      <td>220505.235160</td>\n      <td>208.528064</td>\n      <td>9.091324</td>\n    </tr>\n    <tr>\n      <th>3</th>\n      <td>Difference, %</td>\n      <td>0.080269</td>\n      <td>0.843135</td>\n      <td>2.118235</td>\n      <td>0.150497</td>\n    </tr>\n  </tbody>\n</table>\n</div>"
     },
     "metadata": {}
    },
    {
     "output_type": "stream",
     "name": "stdout",
     "text": "Items:\nPirates of the Caribbean: Dead Man's Chest\nHarry Potter and the Deathly Hallows: Part 2\nThe Hunger Games\nFrozen\nIron Man\nTransformers\nCars\nThe Hangover\nSkyfall\nThe Hobbit: An Unexpected Journey\nIron Man Three\nMan of Steel\nHarry Potter and the Order of the Phoenix\nStar Trek Into Darkness\nThe Amazing Spider-Man\nDespicable Me\nMonsters University\nHarry Potter and the Deathly Hallows: Part 1\nMission: Impossible - Ghost Protocol\nIron Man 2\nHarry Potter and the Half-Blood Prince\nI Am Legend\nThe Hobbit: The Desolation of Smaug\nThe Hunger Games: Catching Fire\nBrave\nToy Story 3\nIndiana Jones and the Kingdom of the Crystal Skull\nHow to Train Your Dragon\nDespicable Me 2\nKung Fu Panda\n\nCluster № 4\n------------------------------\n"
    },
    {
     "output_type": "display_data",
     "data": {
      "text/plain": "                          Rating          Votes    Revenue  Metascore\n0  Within cluster mean  5.514583  119257.479167  59.459583  33.229167\n1           Grand mean  6.924201  261530.098174  98.444269  60.408676\n2           Difference -1.409618 -142272.619007 -38.984686 -27.179509\n3        Difference, % -0.203578      -0.544001  -0.396008  -0.449927",
      "text/html": "<div>\n<style scoped>\n    .dataframe tbody tr th:only-of-type {\n        vertical-align: middle;\n    }\n\n    .dataframe tbody tr th {\n        vertical-align: top;\n    }\n\n    .dataframe thead th {\n        text-align: right;\n    }\n</style>\n<table border=\"1\" class=\"dataframe\">\n  <thead>\n    <tr style=\"text-align: right;\">\n      <th></th>\n      <th></th>\n      <th>Rating</th>\n      <th>Votes</th>\n      <th>Revenue</th>\n      <th>Metascore</th>\n    </tr>\n  </thead>\n  <tbody>\n    <tr>\n      <th>0</th>\n      <td>Within cluster mean</td>\n      <td>5.514583</td>\n      <td>119257.479167</td>\n      <td>59.459583</td>\n      <td>33.229167</td>\n    </tr>\n    <tr>\n      <th>1</th>\n      <td>Grand mean</td>\n      <td>6.924201</td>\n      <td>261530.098174</td>\n      <td>98.444269</td>\n      <td>60.408676</td>\n    </tr>\n    <tr>\n      <th>2</th>\n      <td>Difference</td>\n      <td>-1.409618</td>\n      <td>-142272.619007</td>\n      <td>-38.984686</td>\n      <td>-27.179509</td>\n    </tr>\n    <tr>\n      <th>3</th>\n      <td>Difference, %</td>\n      <td>-0.203578</td>\n      <td>-0.544001</td>\n      <td>-0.396008</td>\n      <td>-0.449927</td>\n    </tr>\n  </tbody>\n</table>\n</div>"
     },
     "metadata": {}
    },
    {
     "output_type": "stream",
     "name": "stdout",
     "text": "Items:\nAliens vs Predator - Requiem\nThe Host\nBattleship\nSucker Punch\nThe Three Musketeers\nJennifer's Body\nGrown Ups 2\nCouples Retreat\nThe Babysitters\nPandorum\nI Am Number Four\nJust Go with It\nSafe Haven\nMovie 43\nThe Happening\nThe Green Inferno\nClash of the Titans\nWhat to Expect When You're Expecting\nGhost Rider\nAdoration\nFriday the 13th\nGreen Lantern\nThe Mortal Instruments: City of Bones\nJumper\nResident Evil: Retribution\nGrown Ups\nThe Mummy: Tomb of the Dragon Emperor\nPercy Jackson: Sea of Monsters\nThis Means War\nThe Purge\nLady in the Water\nG.I. Joe: The Rise of Cobra\nDisaster Movie\nFool's Gold\nDragonball Evolution\nRed Dawn\nG.I. Joe: Retaliation\nWrath of the Titans\nThe Ugly Truth\nBride Wars\nThe Human Centipede (First Sequence)\nWhat's Your Number?\nAfter Earth\nSex and the City 2\nLegion\nI Spit on Your Grave\nYour Highness\nResident Evil: Afterlife\n\nCluster № 5\n------------------------------\n"
    },
    {
     "output_type": "display_data",
     "data": {
      "text/plain": "                          Rating          Votes     Revenue  Metascore\n0  Within cluster mean  8.003846  624641.153846  142.896923  83.576923\n1           Grand mean  6.924201  261530.098174   98.444269  60.408676\n2           Difference  1.079645  363111.055673   44.452654  23.168247\n3        Difference, %  0.155923       1.388410    0.451551   0.383525",
      "text/html": "<div>\n<style scoped>\n    .dataframe tbody tr th:only-of-type {\n        vertical-align: middle;\n    }\n\n    .dataframe tbody tr th {\n        vertical-align: top;\n    }\n\n    .dataframe thead th {\n        text-align: right;\n    }\n</style>\n<table border=\"1\" class=\"dataframe\">\n  <thead>\n    <tr style=\"text-align: right;\">\n      <th></th>\n      <th></th>\n      <th>Rating</th>\n      <th>Votes</th>\n      <th>Revenue</th>\n      <th>Metascore</th>\n    </tr>\n  </thead>\n  <tbody>\n    <tr>\n      <th>0</th>\n      <td>Within cluster mean</td>\n      <td>8.003846</td>\n      <td>624641.153846</td>\n      <td>142.896923</td>\n      <td>83.576923</td>\n    </tr>\n    <tr>\n      <th>1</th>\n      <td>Grand mean</td>\n      <td>6.924201</td>\n      <td>261530.098174</td>\n      <td>98.444269</td>\n      <td>60.408676</td>\n    </tr>\n    <tr>\n      <th>2</th>\n      <td>Difference</td>\n      <td>1.079645</td>\n      <td>363111.055673</td>\n      <td>44.452654</td>\n      <td>23.168247</td>\n    </tr>\n    <tr>\n      <th>3</th>\n      <td>Difference, %</td>\n      <td>0.155923</td>\n      <td>1.388410</td>\n      <td>0.451551</td>\n      <td>0.383525</td>\n    </tr>\n  </tbody>\n</table>\n</div>"
     },
     "metadata": {}
    },
    {
     "output_type": "stream",
     "name": "stdout",
     "text": "Items:\nThe Prestige\nInglourious Basterds\nThe Wolf of Wall Street\nThe Departed\n12 Years a Slave\nNo Country for Old Men\nShutter Island\nStar Trek\nDjango Unchained\nSuperbad\nCasino Royale\nPan's Labyrinth\nBlack Swan\nThe Social Network\nSilver Linings Playbook\nAmerican Hustle\nSlumdog Millionaire\nThe Bourne Ultimatum\nDistrict 9\nArgo\nRatatouille\nUp\nGravity\nJuno\nThe King's Speech\nLife of Pi\n\nCluster № 6\n------------------------------\n"
    },
    {
     "output_type": "display_data",
     "data": {
      "text/plain": "                          Rating          Votes     Revenue  Metascore\n0  Within cluster mean  7.183333  350308.133333  137.657667  63.366667\n1           Grand mean  6.924201  261530.098174   98.444269  60.408676\n2           Difference  0.259132   88778.035160   39.213397   2.957991\n3        Difference, %  0.037424       0.339456    0.398331   0.048966",
      "text/html": "<div>\n<style scoped>\n    .dataframe tbody tr th:only-of-type {\n        vertical-align: middle;\n    }\n\n    .dataframe tbody tr th {\n        vertical-align: top;\n    }\n\n    .dataframe thead th {\n        text-align: right;\n    }\n</style>\n<table border=\"1\" class=\"dataframe\">\n  <thead>\n    <tr style=\"text-align: right;\">\n      <th></th>\n      <th></th>\n      <th>Rating</th>\n      <th>Votes</th>\n      <th>Revenue</th>\n      <th>Metascore</th>\n    </tr>\n  </thead>\n  <tbody>\n    <tr>\n      <th>0</th>\n      <td>Within cluster mean</td>\n      <td>7.183333</td>\n      <td>350308.133333</td>\n      <td>137.657667</td>\n      <td>63.366667</td>\n    </tr>\n    <tr>\n      <th>1</th>\n      <td>Grand mean</td>\n      <td>6.924201</td>\n      <td>261530.098174</td>\n      <td>98.444269</td>\n      <td>60.408676</td>\n    </tr>\n    <tr>\n      <th>2</th>\n      <td>Difference</td>\n      <td>0.259132</td>\n      <td>88778.035160</td>\n      <td>39.213397</td>\n      <td>2.957991</td>\n    </tr>\n    <tr>\n      <th>3</th>\n      <td>Difference, %</td>\n      <td>0.037424</td>\n      <td>0.339456</td>\n      <td>0.398331</td>\n      <td>0.048966</td>\n    </tr>\n  </tbody>\n</table>\n</div>"
     },
     "metadata": {}
    },
    {
     "output_type": "stream",
     "name": "stdout",
     "text": "Items:\nPrometheus\nThe Help\nThor\n300\nFurious 6\nThe Great Gatsby\nWatchmen\nPacific Rim\nCrazy, Stupid, Love.\nTropic Thunder\nCaptain America: The First Avenger\nX: First Class\nBridesmaids\nKick-Ass\nThe Girl with the Dragon Tattoo\nLes Misérables\nThe Intouchables\nThe Conjuring\nRise of the Planet of the Apes\n21 Jump Street\nOblivion\nNow You See Me\nSherlock Holmes\nThe Devil Wears Prada\nLone Survivor\nFast Five\nThis Is the End\nWanted\nThe Wolverine\nThe Incredible Hulk\nTangled\nTaken\nThe Curious Case of Benjamin Button\nWorld War Z\nSalt\nThe Other Guys\nCloverfield\nMen in Black 3\nSuper 8\nThe Bourne Legacy\nLimitless\nWreck-It Ralph\nMegamind\nHorrible Bosses\nThe Pursuit of Happyness\nPublic Enemies\nPineapple Express\nThe Heat\nBlood Diamond\nLive Free or Die Hard\nTed\nRED\nHappy Feet\nQuantum of Solace\nMission: Impossible III\nRio\nReal Steel\nOcean's Thirteen\nSuperman Returns\nTalladega Nights: The Ballad of Ricky Bobby\n\nCluster № 7\n------------------------------\n"
    },
    {
     "output_type": "display_data",
     "data": {
      "text/plain": "                          Rating          Votes     Revenue  Metascore\n0  Within cluster mean  6.337037  292733.074074  232.156667  50.037037\n1           Grand mean  6.924201  261530.098174   98.444269  60.408676\n2           Difference -0.587164   31202.975901  133.712397 -10.371639\n3        Difference, % -0.084799       0.119309    1.358255  -0.171691",
      "text/html": "<div>\n<style scoped>\n    .dataframe tbody tr th:only-of-type {\n        vertical-align: middle;\n    }\n\n    .dataframe tbody tr th {\n        vertical-align: top;\n    }\n\n    .dataframe thead th {\n        text-align: right;\n    }\n</style>\n<table border=\"1\" class=\"dataframe\">\n  <thead>\n    <tr style=\"text-align: right;\">\n      <th></th>\n      <th></th>\n      <th>Rating</th>\n      <th>Votes</th>\n      <th>Revenue</th>\n      <th>Metascore</th>\n    </tr>\n  </thead>\n  <tbody>\n    <tr>\n      <th>0</th>\n      <td>Within cluster mean</td>\n      <td>6.337037</td>\n      <td>292733.074074</td>\n      <td>232.156667</td>\n      <td>50.037037</td>\n    </tr>\n    <tr>\n      <th>1</th>\n      <td>Grand mean</td>\n      <td>6.924201</td>\n      <td>261530.098174</td>\n      <td>98.444269</td>\n      <td>60.408676</td>\n    </tr>\n    <tr>\n      <th>2</th>\n      <td>Difference</td>\n      <td>-0.587164</td>\n      <td>31202.975901</td>\n      <td>133.712397</td>\n      <td>-10.371639</td>\n    </tr>\n    <tr>\n      <th>3</th>\n      <td>Difference, %</td>\n      <td>-0.084799</td>\n      <td>0.119309</td>\n      <td>1.358255</td>\n      <td>-0.171691</td>\n    </tr>\n  </tbody>\n</table>\n</div>"
     },
     "metadata": {}
    },
    {
     "output_type": "stream",
     "name": "stdout",
     "text": "Items:\nPirates of the Caribbean: On Stranger Tides\nPirates of the Caribbean: At World's End\nTwilight\nThor: The Dark World\nWe're the Millers\nX-Men Origins: Wolverine\nThe Blind Side\nFast & Furious\nSpider-Man 3\nThe Twilight Saga: Breaking Dawn - Part 2\nOz the Great and Powerful\nThe Proposal\nSherlock Holmes: A Game of Shadows\n2012\nAlice in Wonderland\nSnow White and the Huntsman\nTransformers: Dark of the Moon\nTron\nX-Men: The Last Stand\nTransformers: Revenge of the Fallen\nThe Karate Kid\nThe Da Vinci Code\nCars 2\nHancock\nSex and the City\nThe Twilight Saga: Breaking Dawn - Part 1\nThe Twilight Saga: Eclipse\n\nCluster № 8\n------------------------------\n"
    },
    {
     "output_type": "display_data",
     "data": {
      "text/plain": "                          Rating          Votes    Revenue  Metascore\n0  Within cluster mean  6.471000  138515.920000  48.415800  48.800000\n1           Grand mean  6.924201  261530.098174  98.444269  60.408676\n2           Difference -0.453201 -123014.178174 -50.028469 -11.608676\n3        Difference, % -0.065452      -0.470363  -0.508191  -0.192169",
      "text/html": "<div>\n<style scoped>\n    .dataframe tbody tr th:only-of-type {\n        vertical-align: middle;\n    }\n\n    .dataframe tbody tr th {\n        vertical-align: top;\n    }\n\n    .dataframe thead th {\n        text-align: right;\n    }\n</style>\n<table border=\"1\" class=\"dataframe\">\n  <thead>\n    <tr style=\"text-align: right;\">\n      <th></th>\n      <th></th>\n      <th>Rating</th>\n      <th>Votes</th>\n      <th>Revenue</th>\n      <th>Metascore</th>\n    </tr>\n  </thead>\n  <tbody>\n    <tr>\n      <th>0</th>\n      <td>Within cluster mean</td>\n      <td>6.471000</td>\n      <td>138515.920000</td>\n      <td>48.415800</td>\n      <td>48.800000</td>\n    </tr>\n    <tr>\n      <th>1</th>\n      <td>Grand mean</td>\n      <td>6.924201</td>\n      <td>261530.098174</td>\n      <td>98.444269</td>\n      <td>60.408676</td>\n    </tr>\n    <tr>\n      <th>2</th>\n      <td>Difference</td>\n      <td>-0.453201</td>\n      <td>-123014.178174</td>\n      <td>-50.028469</td>\n      <td>-11.608676</td>\n    </tr>\n    <tr>\n      <th>3</th>\n      <td>Difference, %</td>\n      <td>-0.065452</td>\n      <td>-0.470363</td>\n      <td>-0.508191</td>\n      <td>-0.192169</td>\n    </tr>\n  </tbody>\n</table>\n</div>"
     },
     "metadata": {}
    },
    {
     "output_type": "stream",
     "name": "stdout",
     "text": "Items:\nMamma Mia!\nDiary of a Wimpy Kid\nSpring Breakers\nPredators\nPercy Jackson & the Olympians: The Lightning Thief\nThe House Bunny\nShe's Out of My League\nThe Fast and the Furious: Tokyo Drift\nStep Up\nIn Time\nWhite House Down\nStep Brothers\nRobin Hood\nJohn Carter\nKick-Ass 2\nCarrie\nOlympus Has Fallen\nThe Book of Eli\nLaw Abiding Citizen\nShooter\nHalf of a Yellow Sun\nThe Counselor\nA Good Year\nJack Reacher\nThe Break-Up\nThe Expendables\nEvil Dead\nSinister\nAll Good Things\nImmortals\nShe's the Man\nNever Back Down\nGangster Squad\nBeautiful Creatures\nThe Lovely Bones\nUnderworld Awakening\nAntichrist\nTotal Recall\nLove & Other Drugs\nAmerican Reunion\nInsidious\nThe First Time\nPain & Gain\nEscape Plan\nSeven Pounds\nAustralia\nFaster\nClosed Circuit\nThe Heartbreak Kid\nThe Strangers\nDark Shadows\nThe A-Team\nThe Internship\nAugust Rush\nEagle Eye\nThe Fountain\nMr. Brooks\nThe Family\nZack and Miri Make a Porno\nMan on a Ledge\nNo Strings Attached\nBeowulf\nPrince of Persia: The Sands of Time\nMama\nOrphan\nTo Rome with Love\nDiary of a Wimpy Kid: Dog Days\nThe Dictator\nYou Don't Mess with the Zohan\nLa migliore offerta\n21\nTerminator Salvation\nThe Hills Have Eyes\nRemember Me\nHorns\nDiary of a Wimpy Kid: Rodrick Rules\nOne Day\nLife as We Know It\nThe Lucky One\nPiranha 3D\nRambo\nSnakes on a Plane\nThe Expendables 2\nThe Golden Compass\n17 Again\nFootloose\nSuper\nThe Midnight Meat Train\nRiddick\nDeath Race\nThe Other Boleyn Girl\nTexas Chainsaw 3D\nRock of Ages\nScream 4\nFinal Destination 5\nUnderworld: Rise of the Lycans\nTaare Zameen Par\nProject X\nHostel: Part II\nStep Up 2: The Streets\n\nCluster № 9\n------------------------------\n"
    },
    {
     "output_type": "display_data",
     "data": {
      "text/plain": "                          Rating          Votes    Revenue  Metascore\n0  Within cluster mean  7.183099  163844.760563  27.659014  63.492958\n1           Grand mean  6.924201  261530.098174  98.444269  60.408676\n2           Difference  0.258898  -97685.337610 -70.785255   3.084282\n3        Difference, %  0.037390      -0.373515  -0.719039   0.051057",
      "text/html": "<div>\n<style scoped>\n    .dataframe tbody tr th:only-of-type {\n        vertical-align: middle;\n    }\n\n    .dataframe tbody tr th {\n        vertical-align: top;\n    }\n\n    .dataframe thead th {\n        text-align: right;\n    }\n</style>\n<table border=\"1\" class=\"dataframe\">\n  <thead>\n    <tr style=\"text-align: right;\">\n      <th></th>\n      <th></th>\n      <th>Rating</th>\n      <th>Votes</th>\n      <th>Revenue</th>\n      <th>Metascore</th>\n    </tr>\n  </thead>\n  <tbody>\n    <tr>\n      <th>0</th>\n      <td>Within cluster mean</td>\n      <td>7.183099</td>\n      <td>163844.760563</td>\n      <td>27.659014</td>\n      <td>63.492958</td>\n    </tr>\n    <tr>\n      <th>1</th>\n      <td>Grand mean</td>\n      <td>6.924201</td>\n      <td>261530.098174</td>\n      <td>98.444269</td>\n      <td>60.408676</td>\n    </tr>\n    <tr>\n      <th>2</th>\n      <td>Difference</td>\n      <td>0.258898</td>\n      <td>-97685.337610</td>\n      <td>-70.785255</td>\n      <td>3.084282</td>\n    </tr>\n    <tr>\n      <th>3</th>\n      <td>Difference, %</td>\n      <td>0.037390</td>\n      <td>-0.373515</td>\n      <td>-0.719039</td>\n      <td>0.051057</td>\n    </tr>\n  </tbody>\n</table>\n</div>"
     },
     "metadata": {}
    },
    {
     "output_type": "stream",
     "name": "stdout",
     "text": "Items:\nThe Place Beyond the Pines\nScott Pilgrim vs. the World\nApocalypto\nThe Perks of Being a Wallflower\nKynodontas\nNymphomaniac: Vol. I\nCloud Atlas\nPitch Perfect\nRocknRolla\nStardust\nAbout Time\nMagic Mike\nShame\nHanna\n3 Idiots\nDredd\nRevolutionary Road\nEnemy\nMarie Antoinette\nForgetting Sarah Marshall\nStake Land\nSavages\nThe Boy in the Striped Pyjamas\nTrust\nIdiocracy\nSunshine\nMoon\nThe Assassination of Jesse James by the Coward Robert Ford\nDon Jon\nThe Secret Life of Walter Mitty\nLawless\nAnna Karenina\nThe Mist\nWe Need to Talk About Kevin\nNymphomaniac: Vol. II\nFriends with Benefits\nThe Illusionist\nPaul\nBody of Lies\nFracture\nOculus\nIn Bruges\nUnknown\nSeven Psychopaths\n1408\nThe Imaginarium of Doctor Parnassus\nRocky Balboa\nUnstoppable\n42\nBegin Again\nOut of the Furnace\nVicky Cristina Barcelona\nFreedom Writers\nChangeling\nWarm Bodies\nSaving Mr. Banks\nBabel\nThe Fall\nWhat If\nSlither\nContagion\nCoherence\nNotorious\nPerfume: The Story of a Murderer\nCenturion\nThe Kings of Summer\nEnd of Watch\nLucky Number Slevin\nTrance\nThe Skin I Live In\nAcross the Universe\n\n"
    }
   ],
   "source": [
    "columns = ['Rating', 'Votes',  'Revenue', 'Metascore']\n",
    "n_clusters = 9\n",
    "\n",
    "imdb_data_clustered, inertia = cluster(imdb_data, clusters_number=n_clusters, clustering_columns_labels=columns)\n",
    "print(f'Inertia: {inertia}')\n",
    "print()\n",
    "print_clusters_info(imdb_data_clustered, item_id_label='Title', clustering_columns_labels=columns)"
   ]
  }
 ]
}