{
 "metadata": {
  "language_info": {
   "codemirror_mode": {
    "name": "ipython",
    "version": 3
   },
   "file_extension": ".py",
   "mimetype": "text/x-python",
   "name": "python",
   "nbconvert_exporter": "python",
   "pygments_lexer": "ipython3",
   "version": "3.8.5-final"
  },
  "orig_nbformat": 2,
  "kernelspec": {
   "name": "Python 3.8.5 64-bit",
   "display_name": "Python 3.8.5 64-bit",
   "metadata": {
    "interpreter": {
     "hash": "767d51c1340bd893661ea55ea3124f6de3c7a262a8b4abca0554b478b1e2ff90"
    }
   }
  }
 },
 "nbformat": 4,
 "nbformat_minor": 2,
 "cells": [
  {
   "cell_type": "code",
   "execution_count": 52,
   "metadata": {},
   "outputs": [
    {
     "output_type": "stream",
     "name": "stdout",
     "text": [
      "The autoreload extension is already loaded. To reload it, use:\n  %reload_ext autoreload\n"
     ]
    }
   ],
   "source": [
    "%load_ext autoreload\n",
    "%autoreload"
   ]
  },
  {
   "cell_type": "code",
   "execution_count": 48,
   "metadata": {},
   "outputs": [],
   "source": [
    "import numpy as np\n",
    "import pandas as pd\n",
    "import sklearn as sk"
   ]
  },
  {
   "cell_type": "markdown",
   "metadata": {},
   "source": [
    "# Предобработка данных"
   ]
  },
  {
   "cell_type": "code",
   "execution_count": 49,
   "metadata": {},
   "outputs": [
    {
     "output_type": "execute_result",
     "data": {
      "text/plain": [
       "                                           Title                     Genre  \\\n",
       "0                                     Prometheus  Adventure,Mystery,Sci-Fi   \n",
       "1    Pirates of the Caribbean: On Stranger Tides  Action,Adventure,Fantasy   \n",
       "2                                The Dark Knight        Action,Crime,Drama   \n",
       "3                                   The Prestige      Drama,Mystery,Sci-Fi   \n",
       "4       Pirates of the Caribbean: At World's End  Action,Adventure,Fantasy   \n",
       "..                                           ...                       ...   \n",
       "433                             Taare Zameen Par        Drama,Family,Music   \n",
       "434                     Resident Evil: Afterlife   Action,Adventure,Horror   \n",
       "435                                    Project X                    Comedy   \n",
       "436                              Hostel: Part II                    Horror   \n",
       "437                       Step Up 2: The Streets       Drama,Music,Romance   \n",
       "\n",
       "     Year  Runtime  Rating    Votes  Revenue  Metascore  \n",
       "0    2012      124     7.0   485820   126.46       65.0  \n",
       "1    2011      136     6.7   395025   241.06       45.0  \n",
       "2    2008      152     9.0  1791916   533.32       82.0  \n",
       "3    2006      130     8.5   913152    53.08       66.0  \n",
       "4    2007      169     7.1   498821   309.40       50.0  \n",
       "..    ...      ...     ...      ...      ...        ...  \n",
       "433  2007      165     8.5   102697     1.20       42.0  \n",
       "434  2010       97     5.9   140900    60.13       37.0  \n",
       "435  2012       88     6.7   164088    54.72       48.0  \n",
       "436  2007       94     5.5    73152    17.54       46.0  \n",
       "437  2008       98     6.2    70699    58.01       50.0  \n",
       "\n",
       "[438 rows x 8 columns]"
      ],
      "text/html": "<div>\n<style scoped>\n    .dataframe tbody tr th:only-of-type {\n        vertical-align: middle;\n    }\n\n    .dataframe tbody tr th {\n        vertical-align: top;\n    }\n\n    .dataframe thead th {\n        text-align: right;\n    }\n</style>\n<table border=\"1\" class=\"dataframe\">\n  <thead>\n    <tr style=\"text-align: right;\">\n      <th></th>\n      <th>Title</th>\n      <th>Genre</th>\n      <th>Year</th>\n      <th>Runtime</th>\n      <th>Rating</th>\n      <th>Votes</th>\n      <th>Revenue</th>\n      <th>Metascore</th>\n    </tr>\n  </thead>\n  <tbody>\n    <tr>\n      <th>0</th>\n      <td>Prometheus</td>\n      <td>Adventure,Mystery,Sci-Fi</td>\n      <td>2012</td>\n      <td>124</td>\n      <td>7.0</td>\n      <td>485820</td>\n      <td>126.46</td>\n      <td>65.0</td>\n    </tr>\n    <tr>\n      <th>1</th>\n      <td>Pirates of the Caribbean: On Stranger Tides</td>\n      <td>Action,Adventure,Fantasy</td>\n      <td>2011</td>\n      <td>136</td>\n      <td>6.7</td>\n      <td>395025</td>\n      <td>241.06</td>\n      <td>45.0</td>\n    </tr>\n    <tr>\n      <th>2</th>\n      <td>The Dark Knight</td>\n      <td>Action,Crime,Drama</td>\n      <td>2008</td>\n      <td>152</td>\n      <td>9.0</td>\n      <td>1791916</td>\n      <td>533.32</td>\n      <td>82.0</td>\n    </tr>\n    <tr>\n      <th>3</th>\n      <td>The Prestige</td>\n      <td>Drama,Mystery,Sci-Fi</td>\n      <td>2006</td>\n      <td>130</td>\n      <td>8.5</td>\n      <td>913152</td>\n      <td>53.08</td>\n      <td>66.0</td>\n    </tr>\n    <tr>\n      <th>4</th>\n      <td>Pirates of the Caribbean: At World's End</td>\n      <td>Action,Adventure,Fantasy</td>\n      <td>2007</td>\n      <td>169</td>\n      <td>7.1</td>\n      <td>498821</td>\n      <td>309.40</td>\n      <td>50.0</td>\n    </tr>\n    <tr>\n      <th>...</th>\n      <td>...</td>\n      <td>...</td>\n      <td>...</td>\n      <td>...</td>\n      <td>...</td>\n      <td>...</td>\n      <td>...</td>\n      <td>...</td>\n    </tr>\n    <tr>\n      <th>433</th>\n      <td>Taare Zameen Par</td>\n      <td>Drama,Family,Music</td>\n      <td>2007</td>\n      <td>165</td>\n      <td>8.5</td>\n      <td>102697</td>\n      <td>1.20</td>\n      <td>42.0</td>\n    </tr>\n    <tr>\n      <th>434</th>\n      <td>Resident Evil: Afterlife</td>\n      <td>Action,Adventure,Horror</td>\n      <td>2010</td>\n      <td>97</td>\n      <td>5.9</td>\n      <td>140900</td>\n      <td>60.13</td>\n      <td>37.0</td>\n    </tr>\n    <tr>\n      <th>435</th>\n      <td>Project X</td>\n      <td>Comedy</td>\n      <td>2012</td>\n      <td>88</td>\n      <td>6.7</td>\n      <td>164088</td>\n      <td>54.72</td>\n      <td>48.0</td>\n    </tr>\n    <tr>\n      <th>436</th>\n      <td>Hostel: Part II</td>\n      <td>Horror</td>\n      <td>2007</td>\n      <td>94</td>\n      <td>5.5</td>\n      <td>73152</td>\n      <td>17.54</td>\n      <td>46.0</td>\n    </tr>\n    <tr>\n      <th>437</th>\n      <td>Step Up 2: The Streets</td>\n      <td>Drama,Music,Romance</td>\n      <td>2008</td>\n      <td>98</td>\n      <td>6.2</td>\n      <td>70699</td>\n      <td>58.01</td>\n      <td>50.0</td>\n    </tr>\n  </tbody>\n</table>\n<p>438 rows × 8 columns</p>\n</div>"
     },
     "metadata": {},
     "execution_count": 49
    }
   ],
   "source": [
    "imdb_data = pd.read_csv('imdb.csv')\n",
    "\n",
    "imdb_data = imdb_data.drop(columns=['Rank', 'Description', 'Director', 'Actors'])\n",
    "imdb_data = imdb_data.dropna()\n",
    "imdb_data = imdb_data[imdb_data['Year'] < 2014]\n",
    "imdb_data = imdb_data.reset_index(drop=True)\n",
    "imdb_data = imdb_data.rename(columns={'Runtime (Minutes)': 'Runtime', 'Revenue (Millions)': 'Revenue'})\n",
    "\n",
    "imdb_data"
   ]
  },
  {
   "cell_type": "code",
   "execution_count": 50,
   "metadata": {
    "tags": []
   },
   "outputs": [
    {
     "output_type": "execute_result",
     "data": {
      "text/plain": [
       "                                           Title  Runtime  Rating    Votes  \\\n",
       "0                                     Prometheus      124     7.0   485820   \n",
       "1    Pirates of the Caribbean: On Stranger Tides      136     6.7   395025   \n",
       "2                                The Dark Knight      152     9.0  1791916   \n",
       "3                                   The Prestige      130     8.5   913152   \n",
       "4       Pirates of the Caribbean: At World's End      169     7.1   498821   \n",
       "..                                           ...      ...     ...      ...   \n",
       "433                             Taare Zameen Par      165     8.5   102697   \n",
       "434                     Resident Evil: Afterlife       97     5.9   140900   \n",
       "435                                    Project X       88     6.7   164088   \n",
       "436                              Hostel: Part II       94     5.5    73152   \n",
       "437                       Step Up 2: The Streets       98     6.2    70699   \n",
       "\n",
       "     Revenue  Metascore  Year_2006  Year_2007  Year_2008  Year_2009  ...  \\\n",
       "0     126.46       65.0          0          0          0          0  ...   \n",
       "1     241.06       45.0          0          0          0          0  ...   \n",
       "2     533.32       82.0          0          0          1          0  ...   \n",
       "3      53.08       66.0          1          0          0          0  ...   \n",
       "4     309.40       50.0          0          1          0          0  ...   \n",
       "..       ...        ...        ...        ...        ...        ...  ...   \n",
       "433     1.20       42.0          0          1          0          0  ...   \n",
       "434    60.13       37.0          0          0          0          0  ...   \n",
       "435    54.72       48.0          0          0          0          0  ...   \n",
       "436    17.54       46.0          0          1          0          0  ...   \n",
       "437    58.01       50.0          0          0          1          0  ...   \n",
       "\n",
       "     Genre_Mystery  Genre_Fantasy  Genre_Horror  Genre_War  Genre_Sci-Fi  \\\n",
       "0                1              0             0          0             1   \n",
       "1                0              1             0          0             0   \n",
       "2                0              0             0          0             0   \n",
       "3                1              0             0          0             1   \n",
       "4                0              1             0          0             0   \n",
       "..             ...            ...           ...        ...           ...   \n",
       "433              0              0             0          0             0   \n",
       "434              0              0             1          0             0   \n",
       "435              0              0             0          0             0   \n",
       "436              0              0             1          0             0   \n",
       "437              0              0             0          0             0   \n",
       "\n",
       "     Genre_Musical  Genre_Biography  Genre_Western  Genre_Animation  \\\n",
       "0                0                0              0                0   \n",
       "1                0                0              0                0   \n",
       "2                0                0              0                0   \n",
       "3                0                0              0                0   \n",
       "4                0                0              0                0   \n",
       "..             ...              ...            ...              ...   \n",
       "433              0                0              0                0   \n",
       "434              0                0              0                0   \n",
       "435              0                0              0                0   \n",
       "436              0                0              0                0   \n",
       "437              0                0              0                0   \n",
       "\n",
       "     Genre_Thriller  \n",
       "0                 0  \n",
       "1                 0  \n",
       "2                 0  \n",
       "3                 0  \n",
       "4                 0  \n",
       "..              ...  \n",
       "433               0  \n",
       "434               0  \n",
       "435               0  \n",
       "436               0  \n",
       "437               0  \n",
       "\n",
       "[438 rows x 34 columns]"
      ],
      "text/html": "<div>\n<style scoped>\n    .dataframe tbody tr th:only-of-type {\n        vertical-align: middle;\n    }\n\n    .dataframe tbody tr th {\n        vertical-align: top;\n    }\n\n    .dataframe thead th {\n        text-align: right;\n    }\n</style>\n<table border=\"1\" class=\"dataframe\">\n  <thead>\n    <tr style=\"text-align: right;\">\n      <th></th>\n      <th>Title</th>\n      <th>Runtime</th>\n      <th>Rating</th>\n      <th>Votes</th>\n      <th>Revenue</th>\n      <th>Metascore</th>\n      <th>Year_2006</th>\n      <th>Year_2007</th>\n      <th>Year_2008</th>\n      <th>Year_2009</th>\n      <th>...</th>\n      <th>Genre_Mystery</th>\n      <th>Genre_Fantasy</th>\n      <th>Genre_Horror</th>\n      <th>Genre_War</th>\n      <th>Genre_Sci-Fi</th>\n      <th>Genre_Musical</th>\n      <th>Genre_Biography</th>\n      <th>Genre_Western</th>\n      <th>Genre_Animation</th>\n      <th>Genre_Thriller</th>\n    </tr>\n  </thead>\n  <tbody>\n    <tr>\n      <th>0</th>\n      <td>Prometheus</td>\n      <td>124</td>\n      <td>7.0</td>\n      <td>485820</td>\n      <td>126.46</td>\n      <td>65.0</td>\n      <td>0</td>\n      <td>0</td>\n      <td>0</td>\n      <td>0</td>\n      <td>...</td>\n      <td>1</td>\n      <td>0</td>\n      <td>0</td>\n      <td>0</td>\n      <td>1</td>\n      <td>0</td>\n      <td>0</td>\n      <td>0</td>\n      <td>0</td>\n      <td>0</td>\n    </tr>\n    <tr>\n      <th>1</th>\n      <td>Pirates of the Caribbean: On Stranger Tides</td>\n      <td>136</td>\n      <td>6.7</td>\n      <td>395025</td>\n      <td>241.06</td>\n      <td>45.0</td>\n      <td>0</td>\n      <td>0</td>\n      <td>0</td>\n      <td>0</td>\n      <td>...</td>\n      <td>0</td>\n      <td>1</td>\n      <td>0</td>\n      <td>0</td>\n      <td>0</td>\n      <td>0</td>\n      <td>0</td>\n      <td>0</td>\n      <td>0</td>\n      <td>0</td>\n    </tr>\n    <tr>\n      <th>2</th>\n      <td>The Dark Knight</td>\n      <td>152</td>\n      <td>9.0</td>\n      <td>1791916</td>\n      <td>533.32</td>\n      <td>82.0</td>\n      <td>0</td>\n      <td>0</td>\n      <td>1</td>\n      <td>0</td>\n      <td>...</td>\n      <td>0</td>\n      <td>0</td>\n      <td>0</td>\n      <td>0</td>\n      <td>0</td>\n      <td>0</td>\n      <td>0</td>\n      <td>0</td>\n      <td>0</td>\n      <td>0</td>\n    </tr>\n    <tr>\n      <th>3</th>\n      <td>The Prestige</td>\n      <td>130</td>\n      <td>8.5</td>\n      <td>913152</td>\n      <td>53.08</td>\n      <td>66.0</td>\n      <td>1</td>\n      <td>0</td>\n      <td>0</td>\n      <td>0</td>\n      <td>...</td>\n      <td>1</td>\n      <td>0</td>\n      <td>0</td>\n      <td>0</td>\n      <td>1</td>\n      <td>0</td>\n      <td>0</td>\n      <td>0</td>\n      <td>0</td>\n      <td>0</td>\n    </tr>\n    <tr>\n      <th>4</th>\n      <td>Pirates of the Caribbean: At World's End</td>\n      <td>169</td>\n      <td>7.1</td>\n      <td>498821</td>\n      <td>309.40</td>\n      <td>50.0</td>\n      <td>0</td>\n      <td>1</td>\n      <td>0</td>\n      <td>0</td>\n      <td>...</td>\n      <td>0</td>\n      <td>1</td>\n      <td>0</td>\n      <td>0</td>\n      <td>0</td>\n      <td>0</td>\n      <td>0</td>\n      <td>0</td>\n      <td>0</td>\n      <td>0</td>\n    </tr>\n    <tr>\n      <th>...</th>\n      <td>...</td>\n      <td>...</td>\n      <td>...</td>\n      <td>...</td>\n      <td>...</td>\n      <td>...</td>\n      <td>...</td>\n      <td>...</td>\n      <td>...</td>\n      <td>...</td>\n      <td>...</td>\n      <td>...</td>\n      <td>...</td>\n      <td>...</td>\n      <td>...</td>\n      <td>...</td>\n      <td>...</td>\n      <td>...</td>\n      <td>...</td>\n      <td>...</td>\n      <td>...</td>\n    </tr>\n    <tr>\n      <th>433</th>\n      <td>Taare Zameen Par</td>\n      <td>165</td>\n      <td>8.5</td>\n      <td>102697</td>\n      <td>1.20</td>\n      <td>42.0</td>\n      <td>0</td>\n      <td>1</td>\n      <td>0</td>\n      <td>0</td>\n      <td>...</td>\n      <td>0</td>\n      <td>0</td>\n      <td>0</td>\n      <td>0</td>\n      <td>0</td>\n      <td>0</td>\n      <td>0</td>\n      <td>0</td>\n      <td>0</td>\n      <td>0</td>\n    </tr>\n    <tr>\n      <th>434</th>\n      <td>Resident Evil: Afterlife</td>\n      <td>97</td>\n      <td>5.9</td>\n      <td>140900</td>\n      <td>60.13</td>\n      <td>37.0</td>\n      <td>0</td>\n      <td>0</td>\n      <td>0</td>\n      <td>0</td>\n      <td>...</td>\n      <td>0</td>\n      <td>0</td>\n      <td>1</td>\n      <td>0</td>\n      <td>0</td>\n      <td>0</td>\n      <td>0</td>\n      <td>0</td>\n      <td>0</td>\n      <td>0</td>\n    </tr>\n    <tr>\n      <th>435</th>\n      <td>Project X</td>\n      <td>88</td>\n      <td>6.7</td>\n      <td>164088</td>\n      <td>54.72</td>\n      <td>48.0</td>\n      <td>0</td>\n      <td>0</td>\n      <td>0</td>\n      <td>0</td>\n      <td>...</td>\n      <td>0</td>\n      <td>0</td>\n      <td>0</td>\n      <td>0</td>\n      <td>0</td>\n      <td>0</td>\n      <td>0</td>\n      <td>0</td>\n      <td>0</td>\n      <td>0</td>\n    </tr>\n    <tr>\n      <th>436</th>\n      <td>Hostel: Part II</td>\n      <td>94</td>\n      <td>5.5</td>\n      <td>73152</td>\n      <td>17.54</td>\n      <td>46.0</td>\n      <td>0</td>\n      <td>1</td>\n      <td>0</td>\n      <td>0</td>\n      <td>...</td>\n      <td>0</td>\n      <td>0</td>\n      <td>1</td>\n      <td>0</td>\n      <td>0</td>\n      <td>0</td>\n      <td>0</td>\n      <td>0</td>\n      <td>0</td>\n      <td>0</td>\n    </tr>\n    <tr>\n      <th>437</th>\n      <td>Step Up 2: The Streets</td>\n      <td>98</td>\n      <td>6.2</td>\n      <td>70699</td>\n      <td>58.01</td>\n      <td>50.0</td>\n      <td>0</td>\n      <td>0</td>\n      <td>1</td>\n      <td>0</td>\n      <td>...</td>\n      <td>0</td>\n      <td>0</td>\n      <td>0</td>\n      <td>0</td>\n      <td>0</td>\n      <td>0</td>\n      <td>0</td>\n      <td>0</td>\n      <td>0</td>\n      <td>0</td>\n    </tr>\n  </tbody>\n</table>\n<p>438 rows × 34 columns</p>\n</div>"
     },
     "metadata": {},
     "execution_count": 50
    }
   ],
   "source": [
    "from hw_utils import quantification_set, quantification_scalar\n",
    "\n",
    "imdb_data = quantification_scalar(imdb_data, \"Year\")\n",
    "imdb_data = quantification_set(imdb_data, \"Genre\")\n",
    "\n",
    "imdb_data"
   ]
  },
  {
   "cell_type": "markdown",
   "metadata": {},
   "source": [
    "# HW 2\n",
    "Код ниже разобъет наши данные на `n_clusters` кластеров, используя колонки `columns`. `imdb_data_clustered` - датафрейм со всеми данными из `imdb_data` и дополнительной колонкой `Cluster` содержащей индекс кластера, к которому относится данная строка. Индекс - это целое число от `0` до `imdb_data_clustered - 1`."
   ]
  },
  {
   "cell_type": "code",
   "execution_count": 53,
   "metadata": {
    "tags": []
   },
   "outputs": [
    {
     "output_type": "stream",
     "name": "stdout",
     "text": [
      "Inertia: 15.946498227628387\n\nCluster № 1\n------------------------------\n"
     ]
    },
    {
     "output_type": "display_data",
     "data": {
      "text/plain": "                          Revenue  Metascore          Votes     Runtime  \\\n0  Within cluster mean  54.702361  70.666667  221542.305556  102.652778   \n1           Grand mean  98.444269  60.408676  261530.098174  116.251142   \n2           Difference -43.741908  10.257991  -39987.792618  -13.598364   \n3        Difference, %  -0.444332   0.169810      -0.152899   -0.116974   \n\n     Rating  \n0  7.225000  \n1  6.924201  \n2  0.300799  \n3  0.043442  ",
      "text/html": "<div>\n<style scoped>\n    .dataframe tbody tr th:only-of-type {\n        vertical-align: middle;\n    }\n\n    .dataframe tbody tr th {\n        vertical-align: top;\n    }\n\n    .dataframe thead th {\n        text-align: right;\n    }\n</style>\n<table border=\"1\" class=\"dataframe\">\n  <thead>\n    <tr style=\"text-align: right;\">\n      <th></th>\n      <th></th>\n      <th>Revenue</th>\n      <th>Metascore</th>\n      <th>Votes</th>\n      <th>Runtime</th>\n      <th>Rating</th>\n    </tr>\n  </thead>\n  <tbody>\n    <tr>\n      <th>0</th>\n      <td>Within cluster mean</td>\n      <td>54.702361</td>\n      <td>70.666667</td>\n      <td>221542.305556</td>\n      <td>102.652778</td>\n      <td>7.225000</td>\n    </tr>\n    <tr>\n      <th>1</th>\n      <td>Grand mean</td>\n      <td>98.444269</td>\n      <td>60.408676</td>\n      <td>261530.098174</td>\n      <td>116.251142</td>\n      <td>6.924201</td>\n    </tr>\n    <tr>\n      <th>2</th>\n      <td>Difference</td>\n      <td>-43.741908</td>\n      <td>10.257991</td>\n      <td>-39987.792618</td>\n      <td>-13.598364</td>\n      <td>0.300799</td>\n    </tr>\n    <tr>\n      <th>3</th>\n      <td>Difference, %</td>\n      <td>-0.444332</td>\n      <td>0.169810</td>\n      <td>-0.152899</td>\n      <td>-0.116974</td>\n      <td>0.043442</td>\n    </tr>\n  </tbody>\n</table>\n</div>"
     },
     "metadata": {}
    },
    {
     "output_type": "stream",
     "name": "stdout",
     "text": [
      "Items:\nScott Pilgrim vs. the World\nTropic Thunder\nDrive\nThe Perks of Being a Wallflower\nThe Intouchables\nKynodontas\nThe Conjuring\nPitch Perfect\nThe Devil Wears Prada\nThe Cabin in the Woods\nMidnight in Paris\nThis Is the End\nZombieland\nWanted\nMagic Mike\nShame\nHanna\nThe imposible\nCoraline\nRevolutionary Road\nSalt\nThe Other Guys\nForgetting Sarah Marshall\nMoonrise Kingdom\nStake Land\nCloverfield\nUnder the Skin\nSuper 8\n(500) Days of Summer\nEasy A\nLimitless\nEnchanted\nLittle Miss Sunshine\nSunshine\nMoon\nMegamind\nDon Jon\nSource Code\nEastern Promises\nPineapple Express\nGone Baby Gone\nWe Need to Talk About Kevin\nHunger\nHappy Feet\nFriends with Benefits\nThe Illusionist\nFracture\nIn Bruges\nThe World's End\nSeven Psychopaths\n1408\nThe Spectacular Now\nFantastic Mr. Fox\n127 Hours\nRocky Balboa\nThe Princess and the Frog\nUnstoppable\nBegin Again\nVicky Cristina Barcelona\nLocke\n28 Weeks Later\nBlue Jasmine\nRio\n50/50\nThe Fall\nSlither\nContagion\nBridge to Terabithia\nCoherence\nPrecious\nTalladega Nights: The Ballad of Ricky Bobby\nEnd of Watch\n\nCluster № 2\n------------------------------\n"
     ]
    },
    {
     "output_type": "display_data",
     "data": {
      "text/plain": "                           Revenue          Votes  Metascore    Rating  \\\n0  Within cluster mean  246.272667  455179.533333  74.166667  7.603333   \n1           Grand mean   98.444269  261530.098174  60.408676  6.924201   \n2           Difference  147.828397  193649.435160  13.757991  0.679132   \n3        Difference, %    1.501646       0.740448   0.227749  0.098081   \n\n      Runtime  \n0  106.000000  \n1  116.251142  \n2  -10.251142  \n3   -0.088181  ",
      "text/html": "<div>\n<style scoped>\n    .dataframe tbody tr th:only-of-type {\n        vertical-align: middle;\n    }\n\n    .dataframe tbody tr th {\n        vertical-align: top;\n    }\n\n    .dataframe thead th {\n        text-align: right;\n    }\n</style>\n<table border=\"1\" class=\"dataframe\">\n  <thead>\n    <tr style=\"text-align: right;\">\n      <th></th>\n      <th></th>\n      <th>Revenue</th>\n      <th>Votes</th>\n      <th>Metascore</th>\n      <th>Rating</th>\n      <th>Runtime</th>\n    </tr>\n  </thead>\n  <tbody>\n    <tr>\n      <th>0</th>\n      <td>Within cluster mean</td>\n      <td>246.272667</td>\n      <td>455179.533333</td>\n      <td>74.166667</td>\n      <td>7.603333</td>\n      <td>106.000000</td>\n    </tr>\n    <tr>\n      <th>1</th>\n      <td>Grand mean</td>\n      <td>98.444269</td>\n      <td>261530.098174</td>\n      <td>60.408676</td>\n      <td>6.924201</td>\n      <td>116.251142</td>\n    </tr>\n    <tr>\n      <th>2</th>\n      <td>Difference</td>\n      <td>147.828397</td>\n      <td>193649.435160</td>\n      <td>13.757991</td>\n      <td>0.679132</td>\n      <td>-10.251142</td>\n    </tr>\n    <tr>\n      <th>3</th>\n      <td>Difference, %</td>\n      <td>1.501646</td>\n      <td>0.740448</td>\n      <td>0.227749</td>\n      <td>0.098081</td>\n      <td>-0.088181</td>\n    </tr>\n  </tbody>\n</table>\n</div>"
     },
     "metadata": {}
    },
    {
     "output_type": "stream",
     "name": "stdout",
     "text": [
      "Items:\nHarry Potter and the Deathly Hallows: Part 2\nStar Trek\nFrozen\nIron Man\nCars\nThe Hangover\nRise of the Planet of the Apes\nBlack Swan\n21 Jump Street\nDespicable Me\nTangled\nMonsters University\nThe Bourne Ultimatum\nWorld War Z\nRatatouille\nI Am Legend\nUp\nGravity\nAlice in Wonderland\nWreck-It Ralph\nJuno\nBrave\nX-Men: The Last Stand\nThe Pursuit of Happyness\nToy Story 3\nTed\nTrue Grit\nHow to Train Your Dragon\nDespicable Me 2\nKung Fu Panda\n\nCluster № 3\n------------------------------\n"
     ]
    },
    {
     "output_type": "display_data",
     "data": {
      "text/plain": "                           Revenue          Votes     Runtime    Rating  \\\n0  Within cluster mean  270.855429  452501.057143  140.942857  7.134286   \n1           Grand mean   98.444269  261530.098174  116.251142  6.924201   \n2           Difference  172.411159  190970.958969   24.691716  0.210085   \n3        Difference, %    1.751358       0.730206    0.212400  0.030341   \n\n   Metascore  \n0  60.685714  \n1  60.408676  \n2   0.277038  \n3   0.004586  ",
      "text/html": "<div>\n<style scoped>\n    .dataframe tbody tr th:only-of-type {\n        vertical-align: middle;\n    }\n\n    .dataframe tbody tr th {\n        vertical-align: top;\n    }\n\n    .dataframe thead th {\n        text-align: right;\n    }\n</style>\n<table border=\"1\" class=\"dataframe\">\n  <thead>\n    <tr style=\"text-align: right;\">\n      <th></th>\n      <th></th>\n      <th>Revenue</th>\n      <th>Votes</th>\n      <th>Runtime</th>\n      <th>Rating</th>\n      <th>Metascore</th>\n    </tr>\n  </thead>\n  <tbody>\n    <tr>\n      <th>0</th>\n      <td>Within cluster mean</td>\n      <td>270.855429</td>\n      <td>452501.057143</td>\n      <td>140.942857</td>\n      <td>7.134286</td>\n      <td>60.685714</td>\n    </tr>\n    <tr>\n      <th>1</th>\n      <td>Grand mean</td>\n      <td>98.444269</td>\n      <td>261530.098174</td>\n      <td>116.251142</td>\n      <td>6.924201</td>\n      <td>60.408676</td>\n    </tr>\n    <tr>\n      <th>2</th>\n      <td>Difference</td>\n      <td>172.411159</td>\n      <td>190970.958969</td>\n      <td>24.691716</td>\n      <td>0.210085</td>\n      <td>0.277038</td>\n    </tr>\n    <tr>\n      <th>3</th>\n      <td>Difference, %</td>\n      <td>1.751358</td>\n      <td>0.730206</td>\n      <td>0.212400</td>\n      <td>0.030341</td>\n      <td>0.004586</td>\n    </tr>\n  </tbody>\n</table>\n</div>"
     },
     "metadata": {}
    },
    {
     "output_type": "stream",
     "name": "stdout",
     "text": [
      "Items:\nPirates of the Caribbean: On Stranger Tides\nPirates of the Caribbean: At World's End\nPirates of the Caribbean: Dead Man's Chest\n300\nFurious 6\nThe Great Gatsby\nShutter Island\nThe Hunger Games\nCaptain America: The First Avenger\nX: First Class\nTransformers\nSkyfall\nThe Hobbit: An Unexpected Journey\nIron Man Three\nSherlock Holmes\nMan of Steel\nThe Blind Side\nHarry Potter and the Order of the Phoenix\nFast Five\nSpider-Man 3\nStar Trek Into Darkness\nThe Amazing Spider-Man\nHarry Potter and the Deathly Hallows: Part 1\nMission: Impossible - Ghost Protocol\nIron Man 2\n2012\nHarry Potter and the Half-Blood Prince\nThe Hobbit: The Desolation of Smaug\nTransformers: Dark of the Moon\nThe Hunger Games: Catching Fire\nTransformers: Revenge of the Fallen\nThe Karate Kid\nThe Da Vinci Code\nIndiana Jones and the Kingdom of the Crystal Skull\nSuperman Returns\n\nCluster № 4\n------------------------------\n"
     ]
    },
    {
     "output_type": "display_data",
     "data": {
      "text/plain": "                          Revenue          Votes     Runtime  Metascore  \\\n0  Within cluster mean  40.929677  134955.532258   97.854839  52.290323   \n1           Grand mean  98.444269  261530.098174  116.251142  60.408676   \n2           Difference -57.514592 -126574.565915  -18.396303  -8.118353   \n3        Difference, %  -0.584235      -0.483977   -0.158246  -0.134391   \n\n     Rating  \n0  6.469355  \n1  6.924201  \n2 -0.454846  \n3 -0.065689  ",
      "text/html": "<div>\n<style scoped>\n    .dataframe tbody tr th:only-of-type {\n        vertical-align: middle;\n    }\n\n    .dataframe tbody tr th {\n        vertical-align: top;\n    }\n\n    .dataframe thead th {\n        text-align: right;\n    }\n</style>\n<table border=\"1\" class=\"dataframe\">\n  <thead>\n    <tr style=\"text-align: right;\">\n      <th></th>\n      <th></th>\n      <th>Revenue</th>\n      <th>Votes</th>\n      <th>Runtime</th>\n      <th>Metascore</th>\n      <th>Rating</th>\n    </tr>\n  </thead>\n  <tbody>\n    <tr>\n      <th>0</th>\n      <td>Within cluster mean</td>\n      <td>40.929677</td>\n      <td>134955.532258</td>\n      <td>97.854839</td>\n      <td>52.290323</td>\n      <td>6.469355</td>\n    </tr>\n    <tr>\n      <th>1</th>\n      <td>Grand mean</td>\n      <td>98.444269</td>\n      <td>261530.098174</td>\n      <td>116.251142</td>\n      <td>60.408676</td>\n      <td>6.924201</td>\n    </tr>\n    <tr>\n      <th>2</th>\n      <td>Difference</td>\n      <td>-57.514592</td>\n      <td>-126574.565915</td>\n      <td>-18.396303</td>\n      <td>-8.118353</td>\n      <td>-0.454846</td>\n    </tr>\n    <tr>\n      <th>3</th>\n      <td>Difference, %</td>\n      <td>-0.584235</td>\n      <td>-0.483977</td>\n      <td>-0.158246</td>\n      <td>-0.134391</td>\n      <td>-0.065689</td>\n    </tr>\n  </tbody>\n</table>\n</div>"
     },
     "metadata": {}
    },
    {
     "output_type": "stream",
     "name": "stdout",
     "text": [
      "Items:\nDiary of a Wimpy Kid\nSpring Breakers\nPredators\nThe House Bunny\nShe's Out of My League\nThe Fast and the Furious: Tokyo Drift\nStep Up\nStep Brothers\nTaken\nKick-Ass 2\nDredd\nCarrie\nEnemy\nThe Boy in the Striped Pyjamas\nHalf of a Yellow Sun\nTrust\nIdiocracy\nThe Expendables\nEvil Dead\nAll Good Things\nShe's the Man\nHorrible Bosses\nUnderworld Awakening\nAntichrist\nInsidious\nThe First Time\nFaster\nClosed Circuit\nThe Strangers\nPaul\nOculus\nThe Purge\nThe Fountain\nHancock\nZack and Miri Make a Porno\nMan on a Ledge\nNo Strings Attached\nMama\nDiary of a Wimpy Kid: Dog Days\nThe Dictator\nThe Hills Have Eyes\nDiary of a Wimpy Kid: Rodrick Rules\nOne Day\nWarm Bodies\nPiranha 3D\nRambo\nSnakes on a Plane\nWhat If\nThe Expendables 2\nCenturion\n17 Again\nSuper\nThe Midnight Meat Train\nThe Kings of Summer\nDeath Race\nTrance\nTexas Chainsaw 3D\nFinal Destination 5\nUnderworld: Rise of the Lycans\nProject X\nHostel: Part II\nStep Up 2: The Streets\n\nCluster № 5\n------------------------------\n"
     ]
    },
    {
     "output_type": "display_data",
     "data": {
      "text/plain": "                                Votes     Runtime    Revenue  Metascore  \\\n0  Within cluster mean  369785.093750  155.000000  72.790000  70.750000   \n1           Grand mean  261530.098174  116.251142  98.444269  60.408676   \n2           Difference  108254.995576   38.748858 -25.654269  10.341324   \n3        Difference, %       0.413929    0.333320  -0.260597   0.171189   \n\n     Rating  \n0  7.815625  \n1  6.924201  \n2  0.891424  \n3  0.128740  ",
      "text/html": "<div>\n<style scoped>\n    .dataframe tbody tr th:only-of-type {\n        vertical-align: middle;\n    }\n\n    .dataframe tbody tr th {\n        vertical-align: top;\n    }\n\n    .dataframe thead th {\n        text-align: right;\n    }\n</style>\n<table border=\"1\" class=\"dataframe\">\n  <thead>\n    <tr style=\"text-align: right;\">\n      <th></th>\n      <th></th>\n      <th>Votes</th>\n      <th>Runtime</th>\n      <th>Revenue</th>\n      <th>Metascore</th>\n      <th>Rating</th>\n    </tr>\n  </thead>\n  <tbody>\n    <tr>\n      <th>0</th>\n      <td>Within cluster mean</td>\n      <td>369785.093750</td>\n      <td>155.000000</td>\n      <td>72.790000</td>\n      <td>70.750000</td>\n      <td>7.815625</td>\n    </tr>\n    <tr>\n      <th>1</th>\n      <td>Grand mean</td>\n      <td>261530.098174</td>\n      <td>116.251142</td>\n      <td>98.444269</td>\n      <td>60.408676</td>\n      <td>6.924201</td>\n    </tr>\n    <tr>\n      <th>2</th>\n      <td>Difference</td>\n      <td>108254.995576</td>\n      <td>38.748858</td>\n      <td>-25.654269</td>\n      <td>10.341324</td>\n      <td>0.891424</td>\n    </tr>\n    <tr>\n      <th>3</th>\n      <td>Difference, %</td>\n      <td>0.413929</td>\n      <td>0.333320</td>\n      <td>-0.260597</td>\n      <td>0.171189</td>\n      <td>0.128740</td>\n    </tr>\n  </tbody>\n</table>\n</div>"
     },
     "metadata": {}
    },
    {
     "output_type": "stream",
     "name": "stdout",
     "text": [
      "Items:\nInglourious Basterds\nThe Wolf of Wall Street\nPrisoners\nThe Help\nThe Departed\nThe Place Beyond the Pines\nDjango Unchained\nWatchmen\nCasino Royale\nWarrior\nInto the Wild\nThe Girl with the Dragon Tattoo\nApocalypto\nLes Misérables\nCloud Atlas\nZodiac\nThere Will Be Blood\nLa vie d'Adèle\nLincoln\nZero Dark Thirty\nThe Curious Case of Benjamin Button\n3 Idiots\nAmerican Gangster\nMän som hatar kvinnor\nThe Assassination of Jesse James by the Coward Robert Ford\nPublic Enemies\nBlood Diamond\nAustralia\nChangeling\nBabel\nPerfume: The Story of a Murderer\nTaare Zameen Par\n\nCluster № 6\n------------------------------\n"
     ]
    },
    {
     "output_type": "display_data",
     "data": {
      "text/plain": "                                Votes  Metascore    Revenue    Rating  \\\n0  Within cluster mean  115133.962264  34.150943  62.584340  5.569811   \n1           Grand mean  261530.098174  60.408676  98.444269  6.924201   \n2           Difference -146396.135909 -26.257732 -35.859930 -1.354390   \n3        Difference, %      -0.559768  -0.434668  -0.364266 -0.195602   \n\n      Runtime  \n0  105.528302  \n1  116.251142  \n2  -10.722840  \n3   -0.092239  ",
      "text/html": "<div>\n<style scoped>\n    .dataframe tbody tr th:only-of-type {\n        vertical-align: middle;\n    }\n\n    .dataframe tbody tr th {\n        vertical-align: top;\n    }\n\n    .dataframe thead th {\n        text-align: right;\n    }\n</style>\n<table border=\"1\" class=\"dataframe\">\n  <thead>\n    <tr style=\"text-align: right;\">\n      <th></th>\n      <th></th>\n      <th>Votes</th>\n      <th>Metascore</th>\n      <th>Revenue</th>\n      <th>Rating</th>\n      <th>Runtime</th>\n    </tr>\n  </thead>\n  <tbody>\n    <tr>\n      <th>0</th>\n      <td>Within cluster mean</td>\n      <td>115133.962264</td>\n      <td>34.150943</td>\n      <td>62.584340</td>\n      <td>5.569811</td>\n      <td>105.528302</td>\n    </tr>\n    <tr>\n      <th>1</th>\n      <td>Grand mean</td>\n      <td>261530.098174</td>\n      <td>60.408676</td>\n      <td>98.444269</td>\n      <td>6.924201</td>\n      <td>116.251142</td>\n    </tr>\n    <tr>\n      <th>2</th>\n      <td>Difference</td>\n      <td>-146396.135909</td>\n      <td>-26.257732</td>\n      <td>-35.859930</td>\n      <td>-1.354390</td>\n      <td>-10.722840</td>\n    </tr>\n    <tr>\n      <th>3</th>\n      <td>Difference, %</td>\n      <td>-0.559768</td>\n      <td>-0.434668</td>\n      <td>-0.364266</td>\n      <td>-0.195602</td>\n      <td>-0.092239</td>\n    </tr>\n  </tbody>\n</table>\n</div>"
     },
     "metadata": {}
    },
    {
     "output_type": "stream",
     "name": "stdout",
     "text": [
      "Items:\n",
      "Aliens vs Predator - Requiem\n",
      "The Host\n",
      "Sucker Punch\n",
      "The Three Musketeers\n",
      "Jennifer's Body\n",
      "Grown Ups 2\n",
      "Couples Retreat\n",
      "The Babysitters\n",
      "Pandorum\n",
      "I Am Number Four\n",
      "Just Go with It\n",
      "Safe Haven\n",
      "Movie 43\n",
      "The Happening\n",
      "The Counselor\n",
      "The Green Inferno\n",
      "The Break-Up\n",
      "Clash of the Titans\n",
      "What to Expect When You're Expecting\n",
      "Ghost Rider\n",
      "Adoration\n",
      "Never Back Down\n",
      "Friday the 13th\n",
      "Green Lantern\n",
      "The Mortal Instruments: City of Bones\n",
      "Jumper\n",
      "Resident Evil: Retribution\n",
      "Grown Ups\n",
      "The Mummy: Tomb of the Dragon Emperor\n",
      "Percy Jackson: Sea of Monsters\n",
      "This Means War\n",
      "Lady in the Water\n",
      "The Family\n",
      "G.I. Joe: The Rise of Cobra\n",
      "Disaster Movie\n",
      "Fool's Gold\n",
      "Dragonball Evolution\n",
      "Red Dawn\n",
      "Life as We Know It\n",
      "G.I. Joe: Retaliation\n",
      "Wrath of the Titans\n",
      "The Lucky One\n",
      "The Ugly Truth\n",
      "Bride Wars\n",
      "The Twilight Saga: Breaking Dawn - Part 1\n",
      "The Human Centipede (First Sequence)\n",
      "What's Your Number?\n",
      "After Earth\n",
      "Sex and the City 2\n",
      "Legion\n",
      "I Spit on Your Grave\n",
      "Your Highness\n",
      "Resident Evil: Afterlife\n",
      "\n",
      "Cluster № 7\n",
      "------------------------------\n"
     ]
    },
    {
     "output_type": "display_data",
     "data": {
      "text/plain": "                                Votes    Revenue  Metascore    Rating  \\\n0  Within cluster mean  201049.453608  84.014948  52.556701  6.708247   \n1           Grand mean  261530.098174  98.444269  60.408676  6.924201   \n2           Difference  -60480.644565 -14.429321  -7.851975 -0.215953   \n3        Difference, %      -0.231257  -0.146573  -0.129981 -0.031188   \n\n      Runtime  \n0  119.608247  \n1  116.251142  \n2    3.357106  \n3    0.028878  ",
      "text/html": "<div>\n<style scoped>\n    .dataframe tbody tr th:only-of-type {\n        vertical-align: middle;\n    }\n\n    .dataframe tbody tr th {\n        vertical-align: top;\n    }\n\n    .dataframe thead th {\n        text-align: right;\n    }\n</style>\n<table border=\"1\" class=\"dataframe\">\n  <thead>\n    <tr style=\"text-align: right;\">\n      <th></th>\n      <th></th>\n      <th>Votes</th>\n      <th>Revenue</th>\n      <th>Metascore</th>\n      <th>Rating</th>\n      <th>Runtime</th>\n    </tr>\n  </thead>\n  <tbody>\n    <tr>\n      <th>0</th>\n      <td>Within cluster mean</td>\n      <td>201049.453608</td>\n      <td>84.014948</td>\n      <td>52.556701</td>\n      <td>6.708247</td>\n      <td>119.608247</td>\n    </tr>\n    <tr>\n      <th>1</th>\n      <td>Grand mean</td>\n      <td>261530.098174</td>\n      <td>98.444269</td>\n      <td>60.408676</td>\n      <td>6.924201</td>\n      <td>116.251142</td>\n    </tr>\n    <tr>\n      <th>2</th>\n      <td>Difference</td>\n      <td>-60480.644565</td>\n      <td>-14.429321</td>\n      <td>-7.851975</td>\n      <td>-0.215953</td>\n      <td>3.357106</td>\n    </tr>\n    <tr>\n      <th>3</th>\n      <td>Difference, %</td>\n      <td>-0.231257</td>\n      <td>-0.146573</td>\n      <td>-0.129981</td>\n      <td>-0.031188</td>\n      <td>0.028878</td>\n    </tr>\n  </tbody>\n</table>\n</div>"
     },
     "metadata": {}
    },
    {
     "output_type": "stream",
     "name": "stdout",
     "text": [
      "Items:\nPrometheus\nThor\nMamma Mia!\nPacific Rim\nTwilight\nThor: The Dark World\nWe're the Millers\nPercy Jackson & the Olympians: The Lightning Thief\nBattleship\nNymphomaniac: Vol. I\nX-Men Origins: Wolverine\nOblivion\nNow You See Me\nLone Survivor\nRocknRolla\nIn Time\nFast & Furious\nWhite House Down\nAbout Time\nThe Twilight Saga: Breaking Dawn - Part 2\nRobin Hood\nThe Wolverine\nJohn Carter\nThe Incredible Hulk\nOz the Great and Powerful\nOlympus Has Fallen\nThe Proposal\nSherlock Holmes: A Game of Shadows\nMarie Antoinette\nThe Book of Eli\nMen in Black 3\nLaw Abiding Citizen\nSavages\nShooter\nThe Bourne Legacy\nA Good Year\nJack Reacher\nSinister\nSnow White and the Huntsman\nTron\nImmortals\nGangster Squad\nBeautiful Creatures\nThe Lovely Bones\nThe Secret Life of Walter Mitty\nTotal Recall\nLove & Other Drugs\nLawless\nAmerican Reunion\nThe Heat\nAnna Karenina\nPain & Gain\nThe Mist\nEscape Plan\nSeven Pounds\nRED\nThe Heartbreak Kid\nNymphomaniac: Vol. II\nDark Shadows\nThe A-Team\nThe Internship\nBody of Lies\nAugust Rush\nEagle Eye\nQuantum of Solace\nCars 2\nUnknown\nMr. Brooks\nBeowulf\nPrince of Persia: The Sands of Time\nOrphan\nTo Rome with Love\nThe Imaginarium of Doctor Parnassus\nYou Don't Mess with the Zohan\nLa migliore offerta\n42\n21\nOut of the Furnace\nTerminator Salvation\nFreedom Writers\nRemember Me\nHorns\nMission: Impossible III\nSaving Mr. Banks\nReal Steel\nSex and the City\nOcean's Thirteen\nNotorious\nThe Golden Compass\nFootloose\nThe Twilight Saga: Eclipse\nRiddick\nLucky Number Slevin\nThe Other Boleyn Girl\nRock of Ages\nScream 4\nAcross the Universe\n\nCluster № 8\n------------------------------\n"
     ]
    },
    {
     "output_type": "display_data",
     "data": {
      "text/plain": "                          Revenue  Metascore          Votes    Rating  \\\n0  Within cluster mean  63.860577  81.192308  321591.711538  7.605769   \n1           Grand mean  98.444269  60.408676  261530.098174  6.924201   \n2           Difference -34.583692  20.783632   60061.613365  0.681568   \n3        Difference, %  -0.351302   0.344050       0.229655  0.098433   \n\n      Runtime  \n0  123.519231  \n1  116.251142  \n2    7.268089  \n3    0.062521  ",
      "text/html": "<div>\n<style scoped>\n    .dataframe tbody tr th:only-of-type {\n        vertical-align: middle;\n    }\n\n    .dataframe tbody tr th {\n        vertical-align: top;\n    }\n\n    .dataframe thead th {\n        text-align: right;\n    }\n</style>\n<table border=\"1\" class=\"dataframe\">\n  <thead>\n    <tr style=\"text-align: right;\">\n      <th></th>\n      <th></th>\n      <th>Revenue</th>\n      <th>Metascore</th>\n      <th>Votes</th>\n      <th>Rating</th>\n      <th>Runtime</th>\n    </tr>\n  </thead>\n  <tbody>\n    <tr>\n      <th>0</th>\n      <td>Within cluster mean</td>\n      <td>63.860577</td>\n      <td>81.192308</td>\n      <td>321591.711538</td>\n      <td>7.605769</td>\n      <td>123.519231</td>\n    </tr>\n    <tr>\n      <th>1</th>\n      <td>Grand mean</td>\n      <td>98.444269</td>\n      <td>60.408676</td>\n      <td>261530.098174</td>\n      <td>6.924201</td>\n      <td>116.251142</td>\n    </tr>\n    <tr>\n      <th>2</th>\n      <td>Difference</td>\n      <td>-34.583692</td>\n      <td>20.783632</td>\n      <td>60061.613365</td>\n      <td>0.681568</td>\n      <td>7.268089</td>\n    </tr>\n    <tr>\n      <th>3</th>\n      <td>Difference, %</td>\n      <td>-0.351302</td>\n      <td>0.344050</td>\n      <td>0.229655</td>\n      <td>0.098433</td>\n      <td>0.062521</td>\n    </tr>\n  </tbody>\n</table>\n</div>"
     },
     "metadata": {}
    },
    {
     "output_type": "stream",
     "name": "stdout",
     "text": [
      "Items:\nThe Prestige\n12 Years a Slave\nNo Country for Old Men\nSuperbad\nCrazy, Stupid, Love.\nHot Fuzz\nHer\nBridesmaids\nKick-Ass\nPan's Labyrinth\nChildren of Men\nSnowpiercer\nThe Social Network\nDallas Buyers Club\nRush\nSilver Linings Playbook\nLooper\nStardust\nAmerican Hustle\nSlumdog Millionaire\nBlue Valentine\nJagten\nThe Town\nDistrict 9\nArgo\nThe Lives of Others\nHairspray\nThe Ghost Writer\nMoneyball\nLet Me In\nHellboy II: The Golden Army\nThe Host\nKnocked Up\nSweeney Todd: The Demon Barber of Fleet Street\nThe Hurt Locker\nThe King's Speech\nTinker Tailor Soldier Spy\nLife of Pi\nLive Free or Die Hard\nIncendies\nHugo\nEl secreto de sus ojos\nThe Fighter\nCaptain Phillips\nRescue Dawn\nInside Man\nJane Eyre\nMelancholia\nFlight\nThe Tree of Life\nThe Descendants\nThe Skin I Live In\n\nCluster № 9\n------------------------------\n"
     ]
    },
    {
     "output_type": "display_data",
     "data": {
      "text/plain": "                           Revenue         Votes     Runtime  Metascore  \\\n0  Within cluster mean  531.562000  1.315836e+06  153.800000  77.200000   \n1           Grand mean   98.444269  2.615301e+05  116.251142  60.408676   \n2           Difference  433.117731  1.054306e+06   37.548858  16.791324   \n3        Difference, %    4.399624  4.031300e+00    0.322998   0.277962   \n\n     Rating  \n0  8.440000  \n1  6.924201  \n2  1.515799  \n3  0.218913  ",
      "text/html": "<div>\n<style scoped>\n    .dataframe tbody tr th:only-of-type {\n        vertical-align: middle;\n    }\n\n    .dataframe tbody tr th {\n        vertical-align: top;\n    }\n\n    .dataframe thead th {\n        text-align: right;\n    }\n</style>\n<table border=\"1\" class=\"dataframe\">\n  <thead>\n    <tr style=\"text-align: right;\">\n      <th></th>\n      <th></th>\n      <th>Revenue</th>\n      <th>Votes</th>\n      <th>Runtime</th>\n      <th>Metascore</th>\n      <th>Rating</th>\n    </tr>\n  </thead>\n  <tbody>\n    <tr>\n      <th>0</th>\n      <td>Within cluster mean</td>\n      <td>531.562000</td>\n      <td>1.315836e+06</td>\n      <td>153.800000</td>\n      <td>77.200000</td>\n      <td>8.440000</td>\n    </tr>\n    <tr>\n      <th>1</th>\n      <td>Grand mean</td>\n      <td>98.444269</td>\n      <td>2.615301e+05</td>\n      <td>116.251142</td>\n      <td>60.408676</td>\n      <td>6.924201</td>\n    </tr>\n    <tr>\n      <th>2</th>\n      <td>Difference</td>\n      <td>433.117731</td>\n      <td>1.054306e+06</td>\n      <td>37.548858</td>\n      <td>16.791324</td>\n      <td>1.515799</td>\n    </tr>\n    <tr>\n      <th>3</th>\n      <td>Difference, %</td>\n      <td>4.399624</td>\n      <td>4.031300e+00</td>\n      <td>0.322998</td>\n      <td>0.277962</td>\n      <td>0.218913</td>\n    </tr>\n  </tbody>\n</table>\n</div>"
     },
     "metadata": {}
    },
    {
     "output_type": "stream",
     "name": "stdout",
     "text": [
      "Items:\nThe Dark Knight\nThe Avengers\nInception\nAvatar\nThe Dark Knight Rises\n\n"
     ]
    }
   ],
   "source": [
    "from hw_utils import cluster, print_clusters_info\n",
    "\n",
    "columns = ['Runtime', 'Rating', 'Votes', 'Revenue', 'Metascore']\n",
    "n_clusters = 9\n",
    "\n",
    "imdb_data_clustered, inertia = cluster(imdb_data, clusters_number=n_clusters, clustering_columns_labels=columns)\n",
    "print(f'Inertia: {inertia}')\n",
    "print()\n",
    "print_clusters_info(imdb_data_clustered, item_id_label='Title', clustering_columns_labels=columns)"
   ]
  },
  {
   "cell_type": "markdown",
   "metadata": {},
   "source": [
    "# HW 3"
   ]
  }
 ]
}